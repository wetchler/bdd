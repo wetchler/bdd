{
 "cells": [
  {
   "cell_type": "markdown",
   "metadata": {},
   "source": [
    "# BDD Assignment #1\n",
    "\n",
    "The goal of this problem set is to replicate and extend the core results of  Jean et al.'s 2016 paper, \"Combining satellite imagery and machine learning to predict poverty.\" This problem set will be challenging and time-consuming, so I suggest you start immediately. Your first step should be to carefully read <a href=\"https://pdfs.semanticscholar.org/1b3a/c4b4187a3dbc9373869e7774b1dc63f748d2.pdf\">the original paper</a>  as well as the <a href=\"http://science.sciencemag.org/content/sci/suppl/2016/08/19/353.6301.790.DC1/Jean.SM.pdf\">supplementary materials</a>.\n",
    "\n",
    "For this assignment, we will focus on the country of Rwanda. You will need to download three distinct datasets, including DHS data, satellite data from the Google Maps API, as well as nighttime luminosity data. The DHS data requires registration (which can take several days to be approved), and the Google Maps API is rate-limited, so it will necessarily take you several days to download the requisite data, so make sure to **get started on those steps asap**. The deep learning section may also take several hours to compute (or days, if you have a slow computer), so don't save it until the last minute.\n",
    "\n",
    "## Overview of the problem set\n",
    "\n",
    "These are the key steps in the problem set:\n",
    "\n",
    "1. [Download satellite night lights images from NOAA](#step_1)\n",
    "2. [Download Rwandan DHS and construct cluster-level aggregates](#step_2)\n",
    "3. [Test whether night lights data can predict wealth, as observed in DHS](#step_3)\n",
    "4. [Download daytime satellite imagery from Google Maps](#step_4)\n",
    "5. [Test whether basic features of daytime imagery can predict wealth](#step_5)\n",
    "6. [*Optional*: Extract features from daytime imagery using deep learning libraries](#step_6)\n",
    "7. [*Optional*: Replicate final model and results of Jean et al (2016)](#step_7)\n",
    "8. [Construct a high-resolution map of the predicted wealth of Rwanda](#step_8)\n",
    "9. [Step back and interpret your results](#step_9)\n"
   ]
  },
  {
   "cell_type": "markdown",
   "metadata": {},
   "source": [
    "# One `import` section to rule them all\n",
    "### It's less error-prone to just import everything up front, so if anything fails we can fix it before we get started"
   ]
  },
  {
   "cell_type": "code",
   "execution_count": 1,
   "metadata": {},
   "outputs": [],
   "source": [
    "# Run this first so it doesn't override the chart aesthetic settings below\n",
    "%matplotlib inline"
   ]
  },
  {
   "cell_type": "code",
   "execution_count": 2,
   "metadata": {},
   "outputs": [
    {
     "name": "stdout",
     "output_type": "stream",
     "text": [
      "Everett Wetchler 2019-02-19 10:04:08 PST\n",
      "\n",
      "CPython 2.7.10\n",
      "IPython 5.8.0\n",
      "\n",
      "numpy 1.16.1\n",
      "pandas 0.24.1\n",
      "matplotlib 2.2.3\n",
      "seaborn 0.9.0\n",
      "watermark 1.8.1\n"
     ]
    },
    {
     "data": {
      "image/png": "[encoded data removed]",
      "text/plain": [
       "<Figure size 720x72 with 1 Axes>"
      ]
     },
     "metadata": {},
     "output_type": "display_data"
    }
   ],
   "source": [
    "# Import useful data science libraries\n",
    "\n",
    "import matplotlib as mpl\n",
    "import matplotlib.pyplot as plt\n",
    "import numpy as np\n",
    "import pandas as pd\n",
    "import seaborn as sns\n",
    "sns.set()\n",
    "\n",
    "from sklearn.model_selection import KFold, cross_val_score\n",
    "from sklearn.linear_model import Ridge\n",
    "from sklearn import metrics\n",
    "\n",
    "pd.set_option('display.max_rows', 100)\n",
    "pd.set_option('display.max_columns', 100)\n",
    "\n",
    "# Customize default chart graphics\n",
    "mpl.rcParams.update({\n",
    "  'font.size': 14,\n",
    "  'axes.titlesize': 'x-large',\n",
    "  'axes.labelsize': 'large',\n",
    "  'xtick.labelsize': 'medium',\n",
    "  'ytick.labelsize': 'medium',\n",
    "  'legend.fancybox': True,\n",
    "  'legend.fontsize': 'medium',\n",
    "  'legend.frameon': True,\n",
    "  'legend.framealpha': 0.7,\n",
    "  'figure.figsize': ['9', '6'],\n",
    "})\n",
    "\n",
    "# It's useful to have some named colors handy\n",
    "(SNS_BLUE, SNS_ORANGE, SNS_GREEN,\n",
    " SNS_RED, SNS_PURPLE, SNS_BROWN,\n",
    " SNS_PINK, SNS_GRAY, SNS_YELLOW,\n",
    " SNS_CYAN) = sns.color_palette()\n",
    "sns.palplot(sns.color_palette())\n",
    "\n",
    "# Watermark extension to print version/system information\n",
    "# Flags:\n",
    "# -a [author] --v (python/ipython versions) -d (date)\n",
    "# -t (time) -z (timezone) -r (repo)\n",
    "# -g (git hash) -w (watermark version)\n",
    "# -p [packages] (package info)\n",
    "%load_ext watermark\n",
    "%watermark -a 'Everett Wetchler' -v -d -t -z -w -p numpy,pandas,matplotlib,seaborn\n",
    "\n",
    "####################################################\n",
    "# END Boilerplate\n",
    "####################################################"
   ]
  },
  {
   "cell_type": "code",
   "execution_count": 3,
   "metadata": {},
   "outputs": [],
   "source": [
    "from IPython.display import Image"
   ]
  },
  {
   "cell_type": "code",
   "execution_count": 4,
   "metadata": {},
   "outputs": [],
   "source": [
    "from cStringIO import StringIO\n",
    "import time\n",
    "import os.path\n",
    "import urllib\n",
    "\n",
    "import fiona\n",
    "from matplotlib import gridspec\n",
    "from osgeo import gdal, ogr, osr\n",
    "from retrying import retry\n",
    "from scipy import misc, ndimage\n",
    "\n",
    "gdal.UseExceptions()"
   ]
  },
  {
   "cell_type": "markdown",
   "metadata": {},
   "source": [
    "<div style=\"background-color: #008000;height: 20px\"></div>\n",
    "\n",
    "# 1. Download satellite night lights images from NOAA\n",
    "\n",
    "- **INPUT**:\n",
    " - None\n",
    "- **OUTPUT**: \n",
    " - `F182010.v4d_web.stable_lights.avg_vis.tif`: Single image file giving nightlights intensity around the world\n",
    "\n",
    "Go to the [DMSP-OLS website](https://ngdc.noaa.gov/eog/dmsp/downloadV4composites.html) and download the satellite nighttime luminosity data (roughly 400MB). We will use the one from 2010. The archive they provide constains several files. Feel free to explore these files. We will only be using the file F182010.v4d_web.stable_lights.avg_vis.tif.\n",
    "\n",
    "A code snippet to get you started is below. Plot a map of nightlight luminosity in Rwanda."
   ]
  },
  {
   "cell_type": "code",
   "execution_count": 5,
   "metadata": {},
   "outputs": [
    {
     "data": {
      "image/png": "[encoded data removed]",
      "text/plain": [
       "<IPython.core.display.Image object>"
      ]
     },
     "execution_count": 5,
     "metadata": {},
     "output_type": "execute_result"
    }
   ],
   "source": [
    "Image('data/satellite/F182010.v4/F182010.v4d_web.stable_lights.avg_vis_smaller.png')"
   ]
  },
  {
   "cell_type": "markdown",
   "metadata": {},
   "source": [
    "<div style=\"background-color: #008000;height: 20px\"></div>\n",
    "\n",
    "# 2. Download Rwandan DHS and construct cluster-level aggregates\n",
    "\n",
    "- **INPUT**: \n",
    "  - `rwanda_clusters_location.csv`: Coordinates of the centroid of each cluster\n",
    "- **OUTPUT**: \n",
    "  - `rwanda_cluster_avg_asset_2010.csv`: Comma-delimited file indicated average wealth of each cluster \n",
    "\n",
    "[Demographic and Health Surveys (DHS)](http://dhsprogram.com/What-We-Do/Survey-Types/DHS.cfm) are nationally-representative household surveys that provide data for a wide range of monitoring and impact evaluation indicators in the areas of population, health, and nutrition. For this assignment, you will need to download the [2010 Rwandan DHS data](http://dhsprogram.com/what-we-do/survey/survey-display-364.cfm). **This requires registration, so start early!** Do not forget to request for the GPS dataset. Make sure you understand the structure of the data before starting.\n",
    "\n",
    "Your immediate goal is to take the raw survey data, covering 12,540 households, and compute the average household wealth for each survey cluster (think of a cluster as a village). Refer to the file `Recode6_DHS_22March2013_DHSG4.pdf` for information on these data.\n",
    "\n",
    "Save your output as `rwanda_cluster_avg_asset_2010.csv` and check that it matches the file that we have provided. You will use this file as input to the next step in the assignment.\n",
    "\n",
    "Conduct some basic statistical analysis of these data, for instance to show the wealth distribution of rwanda (e.g., as a histogram). If you have time, create a map showing the spatial distribution of wealth of Rwanda, as calculated from the DHS. Intpret this analysis -- what have you learned about the distribution of wealth in Rwanda?\n",
    "\n",
    "Hints:\n",
    "- `Household Recode` contains all the attributes of each household. It provides datasets with different formats. Feel free to explore the data. You can use `RWHR61FL.DAT` file in Flat ASCII data (.dat) format.\n",
    "- `RWHR61FL.DCF` describes the attributes and the location of each attribute.\n",
    "- Geographic Datasets: `rwge61fl.zip` contains the location of each cluster in Rwanda. It is in the format of shapefile, which needs QGIS or other GIS softwares to open. For those who are not familiar with GIS tools or who want a shortcut, you can also sue the file `rwanda_clusters_location.csv` provided with the problem set."
   ]
  },
  {
   "cell_type": "markdown",
   "metadata": {},
   "source": [
    "For reference, the cluster locations, overlaid on the nightlights data, are shown in the figure below.\n",
    "<img src=\"figure/map1.png\" alt=\"Map\" style=\"width: 600px;\"/>"
   ]
  },
  {
   "cell_type": "markdown",
   "metadata": {},
   "source": [
    "### A. Dataset construction\n",
    "\n",
    "Notes from `Recode6_DHS_22March2013_DHSG4.pdf`:\n",
    "* HV001: Cluster number\n",
    "* HV271: Household Wealth Index \"Wealth index factor score (5 decimals)\"\n",
    "  * (so we need to divide by 100,000 to include implicit decimals)"
   ]
  },
  {
   "cell_type": "code",
   "execution_count": 6,
   "metadata": {},
   "outputs": [
    {
     "name": "stdout",
     "output_type": "stream",
     "text": [
      "(12540, 3396)\n"
     ]
    }
   ],
   "source": [
    "# Load survey data, takes a minute\n",
    "df_stata = pd.read_stata('data/survey/Rwanda_2010_Stata/RWHR61DT/RWHR61FL.DTA')\n",
    "print(df_stata.shape)"
   ]
  },
  {
   "cell_type": "code",
   "execution_count": 7,
   "metadata": {},
   "outputs": [],
   "source": [
    "# Make a copy of the original (so we don't have to load it again if we need to start over)\n",
    "df_survey = df_stata.copy()"
   ]
  },
  {
   "cell_type": "code",
   "execution_count": 8,
   "metadata": {},
   "outputs": [
    {
     "data": {
      "text/html": [
       "<div>\n",
       "<style scoped>\n",
       "    .dataframe tbody tr th:only-of-type {\n",
       "        vertical-align: middle;\n",
       "    }\n",
       "\n",
       "    .dataframe tbody tr th {\n",
       "        vertical-align: top;\n",
       "    }\n",
       "\n",
       "    .dataframe thead th {\n",
       "        text-align: right;\n",
       "    }\n",
       "</style>\n",
       "<table border=\"1\" class=\"dataframe\">\n",
       "  <thead>\n",
       "    <tr style=\"text-align: right;\">\n",
       "      <th></th>\n",
       "      <th>cluster</th>\n",
       "      <th>weight</th>\n",
       "      <th>wealth_cat</th>\n",
       "      <th>wealth</th>\n",
       "    </tr>\n",
       "  </thead>\n",
       "  <tbody>\n",
       "    <tr>\n",
       "      <th>0</th>\n",
       "      <td>121</td>\n",
       "      <td>0.737365</td>\n",
       "      <td>richest</td>\n",
       "      <td>3.07037</td>\n",
       "    </tr>\n",
       "    <tr>\n",
       "      <th>1</th>\n",
       "      <td>121</td>\n",
       "      <td>0.737365</td>\n",
       "      <td>richest</td>\n",
       "      <td>1.48863</td>\n",
       "    </tr>\n",
       "    <tr>\n",
       "      <th>2</th>\n",
       "      <td>121</td>\n",
       "      <td>0.737365</td>\n",
       "      <td>richest</td>\n",
       "      <td>1.93735</td>\n",
       "    </tr>\n",
       "    <tr>\n",
       "      <th>3</th>\n",
       "      <td>121</td>\n",
       "      <td>0.737365</td>\n",
       "      <td>richer</td>\n",
       "      <td>0.14170</td>\n",
       "    </tr>\n",
       "    <tr>\n",
       "      <th>4</th>\n",
       "      <td>121</td>\n",
       "      <td>0.737365</td>\n",
       "      <td>richer</td>\n",
       "      <td>-0.07971</td>\n",
       "    </tr>\n",
       "  </tbody>\n",
       "</table>\n",
       "</div>"
      ],
      "text/plain": [
       "   cluster    weight wealth_cat   wealth\n",
       "0      121  0.737365    richest  3.07037\n",
       "1      121  0.737365    richest  1.48863\n",
       "2      121  0.737365    richest  1.93735\n",
       "3      121  0.737365     richer  0.14170\n",
       "4      121  0.737365     richer -0.07971"
      ]
     },
     "execution_count": 8,
     "metadata": {},
     "output_type": "execute_result"
    }
   ],
   "source": [
    "# Restrict to useful columns, and rename them intelligibly\n",
    "df_survey = df_survey[['hv001', 'hv005', 'hv270', 'hv271']]\n",
    "df_survey.columns = ['cluster', 'weight', 'wealth_cat', 'wealth']\n",
    "\n",
    "# Remove implicit decimals, converting columns to floats per documentation\n",
    "df_survey['weight'] /= 1e6  # \"an 8 digit variable with 6 implied decimal places\"\n",
    "df_survey['wealth'] /= 1e5  # \"Wealth index factor score (5 decimals)\"\n",
    "df_survey.head()"
   ]
  },
  {
   "cell_type": "code",
   "execution_count": 9,
   "metadata": {},
   "outputs": [
    {
     "data": {
      "text/plain": [
       "(12539.999762, 12540)"
      ]
     },
     "execution_count": 9,
     "metadata": {},
     "output_type": "execute_result"
    }
   ],
   "source": [
    "# These should be very nearly equal, per definition of HV005:\n",
    "# \"All sample weights are normalized such that the weighted\n",
    "# number of cases is identical to the unweighted number of\n",
    "# households when using the full dataset with no selection.\"\n",
    "df_survey['weight'].sum(), len(df_survey)"
   ]
  },
  {
   "cell_type": "code",
   "execution_count": 10,
   "metadata": {},
   "outputs": [
    {
     "data": {
      "text/html": [
       "<div>\n",
       "<style scoped>\n",
       "    .dataframe tbody tr th:only-of-type {\n",
       "        vertical-align: middle;\n",
       "    }\n",
       "\n",
       "    .dataframe tbody tr th {\n",
       "        vertical-align: top;\n",
       "    }\n",
       "\n",
       "    .dataframe thead th {\n",
       "        text-align: right;\n",
       "    }\n",
       "</style>\n",
       "<table border=\"1\" class=\"dataframe\">\n",
       "  <thead>\n",
       "    <tr style=\"text-align: right;\">\n",
       "      <th></th>\n",
       "      <th>weight</th>\n",
       "      <th>unique_weights</th>\n",
       "    </tr>\n",
       "    <tr>\n",
       "      <th>cluster</th>\n",
       "      <th></th>\n",
       "      <th></th>\n",
       "    </tr>\n",
       "  </thead>\n",
       "  <tbody>\n",
       "    <tr>\n",
       "      <th>1</th>\n",
       "      <td>0.886881</td>\n",
       "      <td>1</td>\n",
       "    </tr>\n",
       "    <tr>\n",
       "      <th>2</th>\n",
       "      <td>1.253747</td>\n",
       "      <td>1</td>\n",
       "    </tr>\n",
       "    <tr>\n",
       "      <th>3</th>\n",
       "      <td>0.943757</td>\n",
       "      <td>1</td>\n",
       "    </tr>\n",
       "    <tr>\n",
       "      <th>4</th>\n",
       "      <td>1.085467</td>\n",
       "      <td>1</td>\n",
       "    </tr>\n",
       "    <tr>\n",
       "      <th>5</th>\n",
       "      <td>0.988271</td>\n",
       "      <td>1</td>\n",
       "    </tr>\n",
       "    <tr>\n",
       "      <th>6</th>\n",
       "      <td>0.587649</td>\n",
       "      <td>1</td>\n",
       "    </tr>\n",
       "    <tr>\n",
       "      <th>7</th>\n",
       "      <td>1.119767</td>\n",
       "      <td>1</td>\n",
       "    </tr>\n",
       "    <tr>\n",
       "      <th>8</th>\n",
       "      <td>0.903820</td>\n",
       "      <td>1</td>\n",
       "    </tr>\n",
       "    <tr>\n",
       "      <th>9</th>\n",
       "      <td>0.583417</td>\n",
       "      <td>1</td>\n",
       "    </tr>\n",
       "    <tr>\n",
       "      <th>10</th>\n",
       "      <td>0.920109</td>\n",
       "      <td>1</td>\n",
       "    </tr>\n",
       "  </tbody>\n",
       "</table>\n",
       "</div>"
      ],
      "text/plain": [
       "           weight  unique_weights\n",
       "cluster                          \n",
       "1        0.886881               1\n",
       "2        1.253747               1\n",
       "3        0.943757               1\n",
       "4        1.085467               1\n",
       "5        0.988271               1\n",
       "6        0.587649               1\n",
       "7        1.119767               1\n",
       "8        0.903820               1\n",
       "9        0.583417               1\n",
       "10       0.920109               1"
      ]
     },
     "execution_count": 10,
     "metadata": {},
     "output_type": "execute_result"
    }
   ],
   "source": [
    "# It seems all surveys in a given cluster have the same weight.\n",
    "cluster_to_num_unique_weights = (pd.crosstab(df_survey['cluster'], df_survey['weight']) != 0).sum(axis=1)\n",
    "df_weights = pd.DataFrame(sorted(set(zip(df_survey.cluster, df_survey.weight))), columns=['cluster', 'weight'])\n",
    "df_weights.set_index('cluster', drop=True, inplace=True)\n",
    "df_weights['unique_weights'] = cluster_to_num_unique_weights\n",
    "df_weights.head(10)"
   ]
  },
  {
   "cell_type": "code",
   "execution_count": 11,
   "metadata": {},
   "outputs": [
    {
     "data": {
      "text/html": [
       "<div>\n",
       "<style scoped>\n",
       "    .dataframe tbody tr th:only-of-type {\n",
       "        vertical-align: middle;\n",
       "    }\n",
       "\n",
       "    .dataframe tbody tr th {\n",
       "        vertical-align: top;\n",
       "    }\n",
       "\n",
       "    .dataframe thead th {\n",
       "        text-align: right;\n",
       "    }\n",
       "</style>\n",
       "<table border=\"1\" class=\"dataframe\">\n",
       "  <thead>\n",
       "    <tr style=\"text-align: right;\">\n",
       "      <th></th>\n",
       "      <th>cluster</th>\n",
       "      <th>weight</th>\n",
       "      <th>wealth_cat</th>\n",
       "      <th>wealth</th>\n",
       "    </tr>\n",
       "  </thead>\n",
       "  <tbody>\n",
       "    <tr>\n",
       "      <th>9771</th>\n",
       "      <td>10</td>\n",
       "      <td>0.920109</td>\n",
       "      <td>richer</td>\n",
       "      <td>-0.08611</td>\n",
       "    </tr>\n",
       "    <tr>\n",
       "      <th>9772</th>\n",
       "      <td>10</td>\n",
       "      <td>0.920109</td>\n",
       "      <td>richer</td>\n",
       "      <td>0.15480</td>\n",
       "    </tr>\n",
       "    <tr>\n",
       "      <th>9773</th>\n",
       "      <td>10</td>\n",
       "      <td>0.920109</td>\n",
       "      <td>richest</td>\n",
       "      <td>2.31936</td>\n",
       "    </tr>\n",
       "    <tr>\n",
       "      <th>9774</th>\n",
       "      <td>10</td>\n",
       "      <td>0.920109</td>\n",
       "      <td>richer</td>\n",
       "      <td>0.05646</td>\n",
       "    </tr>\n",
       "    <tr>\n",
       "      <th>9775</th>\n",
       "      <td>10</td>\n",
       "      <td>0.920109</td>\n",
       "      <td>richer</td>\n",
       "      <td>0.10506</td>\n",
       "    </tr>\n",
       "    <tr>\n",
       "      <th>9776</th>\n",
       "      <td>10</td>\n",
       "      <td>0.920109</td>\n",
       "      <td>richer</td>\n",
       "      <td>-0.12835</td>\n",
       "    </tr>\n",
       "    <tr>\n",
       "      <th>9777</th>\n",
       "      <td>10</td>\n",
       "      <td>0.920109</td>\n",
       "      <td>richest</td>\n",
       "      <td>0.26849</td>\n",
       "    </tr>\n",
       "    <tr>\n",
       "      <th>9778</th>\n",
       "      <td>10</td>\n",
       "      <td>0.920109</td>\n",
       "      <td>poorer</td>\n",
       "      <td>-0.41377</td>\n",
       "    </tr>\n",
       "    <tr>\n",
       "      <th>9779</th>\n",
       "      <td>10</td>\n",
       "      <td>0.920109</td>\n",
       "      <td>middle</td>\n",
       "      <td>-0.36263</td>\n",
       "    </tr>\n",
       "    <tr>\n",
       "      <th>9780</th>\n",
       "      <td>10</td>\n",
       "      <td>0.920109</td>\n",
       "      <td>richer</td>\n",
       "      <td>-0.18853</td>\n",
       "    </tr>\n",
       "    <tr>\n",
       "      <th>9781</th>\n",
       "      <td>10</td>\n",
       "      <td>0.920109</td>\n",
       "      <td>richer</td>\n",
       "      <td>0.00480</td>\n",
       "    </tr>\n",
       "    <tr>\n",
       "      <th>9782</th>\n",
       "      <td>10</td>\n",
       "      <td>0.920109</td>\n",
       "      <td>richest</td>\n",
       "      <td>0.49096</td>\n",
       "    </tr>\n",
       "    <tr>\n",
       "      <th>9783</th>\n",
       "      <td>10</td>\n",
       "      <td>0.920109</td>\n",
       "      <td>richest</td>\n",
       "      <td>0.58033</td>\n",
       "    </tr>\n",
       "    <tr>\n",
       "      <th>9784</th>\n",
       "      <td>10</td>\n",
       "      <td>0.920109</td>\n",
       "      <td>richest</td>\n",
       "      <td>0.29674</td>\n",
       "    </tr>\n",
       "    <tr>\n",
       "      <th>9785</th>\n",
       "      <td>10</td>\n",
       "      <td>0.920109</td>\n",
       "      <td>richer</td>\n",
       "      <td>-0.04962</td>\n",
       "    </tr>\n",
       "    <tr>\n",
       "      <th>9786</th>\n",
       "      <td>10</td>\n",
       "      <td>0.920109</td>\n",
       "      <td>richest</td>\n",
       "      <td>1.26986</td>\n",
       "    </tr>\n",
       "    <tr>\n",
       "      <th>9787</th>\n",
       "      <td>10</td>\n",
       "      <td>0.920109</td>\n",
       "      <td>richer</td>\n",
       "      <td>-0.17365</td>\n",
       "    </tr>\n",
       "    <tr>\n",
       "      <th>9788</th>\n",
       "      <td>10</td>\n",
       "      <td>0.920109</td>\n",
       "      <td>richer</td>\n",
       "      <td>-0.19063</td>\n",
       "    </tr>\n",
       "    <tr>\n",
       "      <th>9789</th>\n",
       "      <td>10</td>\n",
       "      <td>0.920109</td>\n",
       "      <td>richest</td>\n",
       "      <td>0.73774</td>\n",
       "    </tr>\n",
       "    <tr>\n",
       "      <th>9790</th>\n",
       "      <td>10</td>\n",
       "      <td>0.920109</td>\n",
       "      <td>richer</td>\n",
       "      <td>-0.21493</td>\n",
       "    </tr>\n",
       "    <tr>\n",
       "      <th>9791</th>\n",
       "      <td>10</td>\n",
       "      <td>0.920109</td>\n",
       "      <td>richest</td>\n",
       "      <td>2.68584</td>\n",
       "    </tr>\n",
       "    <tr>\n",
       "      <th>9792</th>\n",
       "      <td>10</td>\n",
       "      <td>0.920109</td>\n",
       "      <td>poorer</td>\n",
       "      <td>-0.42514</td>\n",
       "    </tr>\n",
       "    <tr>\n",
       "      <th>9793</th>\n",
       "      <td>10</td>\n",
       "      <td>0.920109</td>\n",
       "      <td>richest</td>\n",
       "      <td>2.10610</td>\n",
       "    </tr>\n",
       "    <tr>\n",
       "      <th>9794</th>\n",
       "      <td>10</td>\n",
       "      <td>0.920109</td>\n",
       "      <td>middle</td>\n",
       "      <td>-0.35646</td>\n",
       "    </tr>\n",
       "    <tr>\n",
       "      <th>9795</th>\n",
       "      <td>10</td>\n",
       "      <td>0.920109</td>\n",
       "      <td>richest</td>\n",
       "      <td>5.70103</td>\n",
       "    </tr>\n",
       "  </tbody>\n",
       "</table>\n",
       "</div>"
      ],
      "text/plain": [
       "      cluster    weight wealth_cat   wealth\n",
       "9771       10  0.920109     richer -0.08611\n",
       "9772       10  0.920109     richer  0.15480\n",
       "9773       10  0.920109    richest  2.31936\n",
       "9774       10  0.920109     richer  0.05646\n",
       "9775       10  0.920109     richer  0.10506\n",
       "9776       10  0.920109     richer -0.12835\n",
       "9777       10  0.920109    richest  0.26849\n",
       "9778       10  0.920109     poorer -0.41377\n",
       "9779       10  0.920109     middle -0.36263\n",
       "9780       10  0.920109     richer -0.18853\n",
       "9781       10  0.920109     richer  0.00480\n",
       "9782       10  0.920109    richest  0.49096\n",
       "9783       10  0.920109    richest  0.58033\n",
       "9784       10  0.920109    richest  0.29674\n",
       "9785       10  0.920109     richer -0.04962\n",
       "9786       10  0.920109    richest  1.26986\n",
       "9787       10  0.920109     richer -0.17365\n",
       "9788       10  0.920109     richer -0.19063\n",
       "9789       10  0.920109    richest  0.73774\n",
       "9790       10  0.920109     richer -0.21493\n",
       "9791       10  0.920109    richest  2.68584\n",
       "9792       10  0.920109     poorer -0.42514\n",
       "9793       10  0.920109    richest  2.10610\n",
       "9794       10  0.920109     middle -0.35646\n",
       "9795       10  0.920109    richest  5.70103"
      ]
     },
     "execution_count": 11,
     "metadata": {},
     "output_type": "execute_result"
    }
   ],
   "source": [
    "# Pick a random cluster to demonstrate that all households share the same weight\n",
    "df_survey[df_survey['cluster'] == 10]"
   ]
  },
  {
   "cell_type": "code",
   "execution_count": 12,
   "metadata": {},
   "outputs": [
    {
     "data": {
      "text/html": [
       "<div>\n",
       "<style scoped>\n",
       "    .dataframe tbody tr th:only-of-type {\n",
       "        vertical-align: middle;\n",
       "    }\n",
       "\n",
       "    .dataframe tbody tr th {\n",
       "        vertical-align: top;\n",
       "    }\n",
       "\n",
       "    .dataframe thead th {\n",
       "        text-align: right;\n",
       "    }\n",
       "</style>\n",
       "<table border=\"1\" class=\"dataframe\">\n",
       "  <thead>\n",
       "    <tr style=\"text-align: right;\">\n",
       "      <th></th>\n",
       "      <th>low</th>\n",
       "      <th>high</th>\n",
       "    </tr>\n",
       "    <tr>\n",
       "      <th>wealth_cat</th>\n",
       "      <th></th>\n",
       "      <th></th>\n",
       "    </tr>\n",
       "  </thead>\n",
       "  <tbody>\n",
       "    <tr>\n",
       "      <th>poorest</th>\n",
       "      <td>-1.65339</td>\n",
       "      <td>-0.55246</td>\n",
       "    </tr>\n",
       "    <tr>\n",
       "      <th>poorer</th>\n",
       "      <td>-0.55241</td>\n",
       "      <td>-0.40322</td>\n",
       "    </tr>\n",
       "    <tr>\n",
       "      <th>middle</th>\n",
       "      <td>-0.40316</td>\n",
       "      <td>-0.21859</td>\n",
       "    </tr>\n",
       "    <tr>\n",
       "      <th>richer</th>\n",
       "      <td>-0.21844</td>\n",
       "      <td>0.22171</td>\n",
       "    </tr>\n",
       "    <tr>\n",
       "      <th>richest</th>\n",
       "      <td>0.22227</td>\n",
       "      <td>8.33051</td>\n",
       "    </tr>\n",
       "  </tbody>\n",
       "</table>\n",
       "</div>"
      ],
      "text/plain": [
       "                low     high\n",
       "wealth_cat                  \n",
       "poorest    -1.65339 -0.55246\n",
       "poorer     -0.55241 -0.40322\n",
       "middle     -0.40316 -0.21859\n",
       "richer     -0.21844  0.22171\n",
       "richest     0.22227  8.33051"
      ]
     },
     "execution_count": 12,
     "metadata": {},
     "output_type": "execute_result"
    }
   ],
   "source": [
    "# Sanity check - ensure wealth categories are non-overlapping\n",
    "# and correctly-ascending\n",
    "low = df_survey.groupby('wealth_cat')['wealth'].min()\n",
    "hi = df_survey.groupby('wealth_cat')['wealth'].max()\n",
    "pd.DataFrame([low, hi], index=['low', 'high']).T"
   ]
  },
  {
   "cell_type": "code",
   "execution_count": 13,
   "metadata": {},
   "outputs": [
    {
     "data": {
      "text/html": [
       "<div>\n",
       "<style scoped>\n",
       "    .dataframe tbody tr th:only-of-type {\n",
       "        vertical-align: middle;\n",
       "    }\n",
       "\n",
       "    .dataframe tbody tr th {\n",
       "        vertical-align: top;\n",
       "    }\n",
       "\n",
       "    .dataframe thead th {\n",
       "        text-align: right;\n",
       "    }\n",
       "</style>\n",
       "<table border=\"1\" class=\"dataframe\">\n",
       "  <thead>\n",
       "    <tr style=\"text-align: right;\">\n",
       "      <th></th>\n",
       "      <th>cluster</th>\n",
       "      <th>weight</th>\n",
       "      <th>wealth_cat</th>\n",
       "      <th>wealth</th>\n",
       "    </tr>\n",
       "    <tr>\n",
       "      <th>cluster</th>\n",
       "      <th></th>\n",
       "      <th></th>\n",
       "      <th></th>\n",
       "      <th></th>\n",
       "    </tr>\n",
       "  </thead>\n",
       "  <tbody>\n",
       "    <tr>\n",
       "      <th>121</th>\n",
       "      <td>121</td>\n",
       "      <td>0.737365</td>\n",
       "      <td>richest</td>\n",
       "      <td>3.07037</td>\n",
       "    </tr>\n",
       "    <tr>\n",
       "      <th>121</th>\n",
       "      <td>121</td>\n",
       "      <td>0.737365</td>\n",
       "      <td>richest</td>\n",
       "      <td>1.48863</td>\n",
       "    </tr>\n",
       "    <tr>\n",
       "      <th>121</th>\n",
       "      <td>121</td>\n",
       "      <td>0.737365</td>\n",
       "      <td>richest</td>\n",
       "      <td>1.93735</td>\n",
       "    </tr>\n",
       "    <tr>\n",
       "      <th>121</th>\n",
       "      <td>121</td>\n",
       "      <td>0.737365</td>\n",
       "      <td>richer</td>\n",
       "      <td>0.14170</td>\n",
       "    </tr>\n",
       "    <tr>\n",
       "      <th>121</th>\n",
       "      <td>121</td>\n",
       "      <td>0.737365</td>\n",
       "      <td>richer</td>\n",
       "      <td>-0.07971</td>\n",
       "    </tr>\n",
       "  </tbody>\n",
       "</table>\n",
       "</div>"
      ],
      "text/plain": [
       "         cluster    weight wealth_cat   wealth\n",
       "cluster                                       \n",
       "121          121  0.737365    richest  3.07037\n",
       "121          121  0.737365    richest  1.48863\n",
       "121          121  0.737365    richest  1.93735\n",
       "121          121  0.737365     richer  0.14170\n",
       "121          121  0.737365     richer -0.07971"
      ]
     },
     "execution_count": 13,
     "metadata": {},
     "output_type": "execute_result"
    }
   ],
   "source": [
    "df_survey.set_index('cluster', inplace=True, drop=False)\n",
    "df_survey.head()"
   ]
  },
  {
   "cell_type": "code",
   "execution_count": 14,
   "metadata": {},
   "outputs": [
    {
     "data": {
      "text/html": [
       "<div>\n",
       "<style scoped>\n",
       "    .dataframe tbody tr th:only-of-type {\n",
       "        vertical-align: middle;\n",
       "    }\n",
       "\n",
       "    .dataframe tbody tr th {\n",
       "        vertical-align: top;\n",
       "    }\n",
       "\n",
       "    .dataframe thead th {\n",
       "        text-align: right;\n",
       "    }\n",
       "</style>\n",
       "<table border=\"1\" class=\"dataframe\">\n",
       "  <thead>\n",
       "    <tr style=\"text-align: right;\">\n",
       "      <th></th>\n",
       "      <th>X</th>\n",
       "      <th>Y</th>\n",
       "      <th>DHSID</th>\n",
       "      <th>DHSCC</th>\n",
       "      <th>DHSYEAR</th>\n",
       "      <th>DHSCLUST</th>\n",
       "      <th>CCFIPS</th>\n",
       "      <th>ADM1FIPS</th>\n",
       "      <th>ADM1FIPSNA</th>\n",
       "      <th>ADM1SALBNA</th>\n",
       "      <th>ADM1SALBCO</th>\n",
       "      <th>ADM1DHS</th>\n",
       "      <th>ADM1NAME</th>\n",
       "      <th>DHSREGCO</th>\n",
       "      <th>DHSREGNA</th>\n",
       "      <th>SOURCE</th>\n",
       "      <th>URBAN_RURA</th>\n",
       "      <th>LATNUM</th>\n",
       "      <th>LONGNUM</th>\n",
       "      <th>ALT_GPS</th>\n",
       "      <th>ALT_DEM</th>\n",
       "      <th>DATUM</th>\n",
       "    </tr>\n",
       "  </thead>\n",
       "  <tbody>\n",
       "    <tr>\n",
       "      <th>0</th>\n",
       "      <td>29.684726</td>\n",
       "      <td>-2.532818</td>\n",
       "      <td>RW201000000001</td>\n",
       "      <td>RW</td>\n",
       "      <td>2010.0</td>\n",
       "      <td>1</td>\n",
       "      <td>RW</td>\n",
       "      <td>RW15</td>\n",
       "      <td>Southern</td>\n",
       "      <td>NaN</td>\n",
       "      <td>NaN</td>\n",
       "      <td>2.0</td>\n",
       "      <td>South</td>\n",
       "      <td>7.0</td>\n",
       "      <td>Huye</td>\n",
       "      <td>GPS</td>\n",
       "      <td>R</td>\n",
       "      <td>-2.532818</td>\n",
       "      <td>29.684726</td>\n",
       "      <td>1706.0</td>\n",
       "      <td>1702.0</td>\n",
       "      <td>WGS84</td>\n",
       "    </tr>\n",
       "    <tr>\n",
       "      <th>1</th>\n",
       "      <td>30.310689</td>\n",
       "      <td>-1.833858</td>\n",
       "      <td>RW201000000002</td>\n",
       "      <td>RW</td>\n",
       "      <td>2010.0</td>\n",
       "      <td>2</td>\n",
       "      <td>RW</td>\n",
       "      <td>RW11</td>\n",
       "      <td>Eastern</td>\n",
       "      <td>NaN</td>\n",
       "      <td>NaN</td>\n",
       "      <td>5.0</td>\n",
       "      <td>East</td>\n",
       "      <td>26.0</td>\n",
       "      <td>Gatsibo</td>\n",
       "      <td>GPS</td>\n",
       "      <td>R</td>\n",
       "      <td>-1.833858</td>\n",
       "      <td>30.310689</td>\n",
       "      <td>1631.0</td>\n",
       "      <td>1631.0</td>\n",
       "      <td>WGS84</td>\n",
       "    </tr>\n",
       "    <tr>\n",
       "      <th>2</th>\n",
       "      <td>29.478298</td>\n",
       "      <td>-1.888155</td>\n",
       "      <td>RW201000000003</td>\n",
       "      <td>RW</td>\n",
       "      <td>2010.0</td>\n",
       "      <td>3</td>\n",
       "      <td>RW</td>\n",
       "      <td>RW14</td>\n",
       "      <td>Western</td>\n",
       "      <td>NaN</td>\n",
       "      <td>NaN</td>\n",
       "      <td>3.0</td>\n",
       "      <td>West</td>\n",
       "      <td>16.0</td>\n",
       "      <td>Ngororero</td>\n",
       "      <td>GPS</td>\n",
       "      <td>R</td>\n",
       "      <td>-1.888155</td>\n",
       "      <td>29.478298</td>\n",
       "      <td>2310.0</td>\n",
       "      <td>2324.0</td>\n",
       "      <td>WGS84</td>\n",
       "    </tr>\n",
       "    <tr>\n",
       "      <th>3</th>\n",
       "      <td>30.521692</td>\n",
       "      <td>-2.366763</td>\n",
       "      <td>RW201000000004</td>\n",
       "      <td>RW</td>\n",
       "      <td>2010.0</td>\n",
       "      <td>4</td>\n",
       "      <td>RW</td>\n",
       "      <td>RW11</td>\n",
       "      <td>Eastern</td>\n",
       "      <td>NaN</td>\n",
       "      <td>NaN</td>\n",
       "      <td>5.0</td>\n",
       "      <td>East</td>\n",
       "      <td>28.0</td>\n",
       "      <td>Kirehe</td>\n",
       "      <td>GPS</td>\n",
       "      <td>R</td>\n",
       "      <td>-2.366763</td>\n",
       "      <td>30.521692</td>\n",
       "      <td>1388.0</td>\n",
       "      <td>1399.0</td>\n",
       "      <td>WGS84</td>\n",
       "    </tr>\n",
       "    <tr>\n",
       "      <th>4</th>\n",
       "      <td>30.018541</td>\n",
       "      <td>-2.171266</td>\n",
       "      <td>RW201000000005</td>\n",
       "      <td>RW</td>\n",
       "      <td>2010.0</td>\n",
       "      <td>5</td>\n",
       "      <td>RW</td>\n",
       "      <td>RW11</td>\n",
       "      <td>Eastern</td>\n",
       "      <td>NaN</td>\n",
       "      <td>NaN</td>\n",
       "      <td>5.0</td>\n",
       "      <td>East</td>\n",
       "      <td>30.0</td>\n",
       "      <td>Bugesera</td>\n",
       "      <td>GPS</td>\n",
       "      <td>R</td>\n",
       "      <td>-2.171266</td>\n",
       "      <td>30.018541</td>\n",
       "      <td>1437.0</td>\n",
       "      <td>1445.0</td>\n",
       "      <td>WGS84</td>\n",
       "    </tr>\n",
       "  </tbody>\n",
       "</table>\n",
       "</div>"
      ],
      "text/plain": [
       "           X         Y           DHSID DHSCC  DHSYEAR  DHSCLUST CCFIPS  \\\n",
       "0  29.684726 -2.532818  RW201000000001    RW   2010.0         1     RW   \n",
       "1  30.310689 -1.833858  RW201000000002    RW   2010.0         2     RW   \n",
       "2  29.478298 -1.888155  RW201000000003    RW   2010.0         3     RW   \n",
       "3  30.521692 -2.366763  RW201000000004    RW   2010.0         4     RW   \n",
       "4  30.018541 -2.171266  RW201000000005    RW   2010.0         5     RW   \n",
       "\n",
       "  ADM1FIPS ADM1FIPSNA  ADM1SALBNA  ADM1SALBCO  ADM1DHS ADM1NAME  DHSREGCO  \\\n",
       "0     RW15   Southern         NaN         NaN      2.0    South       7.0   \n",
       "1     RW11    Eastern         NaN         NaN      5.0     East      26.0   \n",
       "2     RW14    Western         NaN         NaN      3.0     West      16.0   \n",
       "3     RW11    Eastern         NaN         NaN      5.0     East      28.0   \n",
       "4     RW11    Eastern         NaN         NaN      5.0     East      30.0   \n",
       "\n",
       "    DHSREGNA SOURCE URBAN_RURA    LATNUM    LONGNUM  ALT_GPS  ALT_DEM  DATUM  \n",
       "0       Huye    GPS          R -2.532818  29.684726   1706.0   1702.0  WGS84  \n",
       "1    Gatsibo    GPS          R -1.833858  30.310689   1631.0   1631.0  WGS84  \n",
       "2  Ngororero    GPS          R -1.888155  29.478298   2310.0   2324.0  WGS84  \n",
       "3     Kirehe    GPS          R -2.366763  30.521692   1388.0   1399.0  WGS84  \n",
       "4   Bugesera    GPS          R -2.171266  30.018541   1437.0   1445.0  WGS84  "
      ]
     },
     "execution_count": 14,
     "metadata": {},
     "output_type": "execute_result"
    }
   ],
   "source": [
    "# Read cluster lat/long data\n",
    "df_locations = pd.read_csv('provided/rwanda_clusters_location.csv')\n",
    "df_locations['DHSCLUST'] = df_locations['DHSCLUST'].astype(int)\n",
    "df_locations.head()"
   ]
  },
  {
   "cell_type": "code",
   "execution_count": 16,
   "metadata": {},
   "outputs": [
    {
     "name": "stderr",
     "output_type": "stream",
     "text": [
      "/Users/everettwetchler/src/bdd/venv/lib/python2.7/site-packages/ipykernel/__main__.py:5: SettingWithCopyWarning: \n",
      "A value is trying to be set on a copy of a slice from a DataFrame.\n",
      "Try using .loc[row_indexer,col_indexer] = value instead\n",
      "\n",
      "See the caveats in the documentation: http://pandas.pydata.org/pandas-docs/stable/indexing.html#indexing-view-versus-copy\n"
     ]
    },
    {
     "data": {
      "text/html": [
       "<div>\n",
       "<style scoped>\n",
       "    .dataframe tbody tr th:only-of-type {\n",
       "        vertical-align: middle;\n",
       "    }\n",
       "\n",
       "    .dataframe tbody tr th {\n",
       "        vertical-align: top;\n",
       "    }\n",
       "\n",
       "    .dataframe thead th {\n",
       "        text-align: right;\n",
       "    }\n",
       "</style>\n",
       "<table border=\"1\" class=\"dataframe\">\n",
       "  <thead>\n",
       "    <tr style=\"text-align: right;\">\n",
       "      <th></th>\n",
       "      <th>cluster</th>\n",
       "      <th>wlthindf</th>\n",
       "      <th>latitude</th>\n",
       "      <th>longitude</th>\n",
       "    </tr>\n",
       "    <tr>\n",
       "      <th>DHSCLUST</th>\n",
       "      <th></th>\n",
       "      <th></th>\n",
       "      <th></th>\n",
       "      <th></th>\n",
       "    </tr>\n",
       "  </thead>\n",
       "  <tbody>\n",
       "    <tr>\n",
       "      <th>1</th>\n",
       "      <td>1</td>\n",
       "      <td>-0.531405</td>\n",
       "      <td>-2.532818</td>\n",
       "      <td>29.684726</td>\n",
       "    </tr>\n",
       "    <tr>\n",
       "      <th>2</th>\n",
       "      <td>2</td>\n",
       "      <td>-0.409830</td>\n",
       "      <td>-1.833858</td>\n",
       "      <td>30.310689</td>\n",
       "    </tr>\n",
       "    <tr>\n",
       "      <th>3</th>\n",
       "      <td>3</td>\n",
       "      <td>-0.478115</td>\n",
       "      <td>-1.888155</td>\n",
       "      <td>29.478298</td>\n",
       "    </tr>\n",
       "    <tr>\n",
       "      <th>4</th>\n",
       "      <td>4</td>\n",
       "      <td>-0.435960</td>\n",
       "      <td>-2.366763</td>\n",
       "      <td>30.521692</td>\n",
       "    </tr>\n",
       "    <tr>\n",
       "      <th>5</th>\n",
       "      <td>5</td>\n",
       "      <td>-0.449480</td>\n",
       "      <td>-2.171266</td>\n",
       "      <td>30.018541</td>\n",
       "    </tr>\n",
       "  </tbody>\n",
       "</table>\n",
       "</div>"
      ],
      "text/plain": [
       "          cluster  wlthindf  latitude  longitude\n",
       "DHSCLUST                                        \n",
       "1               1 -0.531405 -2.532818  29.684726\n",
       "2               2 -0.409830 -1.833858  30.310689\n",
       "3               3 -0.478115 -1.888155  29.478298\n",
       "4               4 -0.435960 -2.366763  30.521692\n",
       "5               5 -0.449480 -2.171266  30.018541"
      ]
     },
     "execution_count": 16,
     "metadata": {},
     "output_type": "execute_result"
    }
   ],
   "source": [
    "df_final = df_locations[['DHSCLUST', 'X', 'Y']]\n",
    "df_final.set_index('DHSCLUST', inplace=True, drop=False)\n",
    "\n",
    "# You can do this since they share the same index\n",
    "df_final['wealth'] = df_survey.groupby(level=0)['wealth'].median()\n",
    "\n",
    "# Let's format it to match the given solution file\n",
    "\n",
    "# Rename columns\n",
    "df_final.columns = ['cluster', 'longitude', 'latitude', 'wlthindf']  # Rename\n",
    "df_final = df_final[['cluster', 'wlthindf', 'latitude', 'longitude']]  # Reorder\n",
    "df_final.head()"
   ]
  },
  {
   "cell_type": "code",
   "execution_count": 17,
   "metadata": {},
   "outputs": [
    {
     "data": {
      "text/html": [
       "<div>\n",
       "<style scoped>\n",
       "    .dataframe tbody tr th:only-of-type {\n",
       "        vertical-align: middle;\n",
       "    }\n",
       "\n",
       "    .dataframe tbody tr th {\n",
       "        vertical-align: top;\n",
       "    }\n",
       "\n",
       "    .dataframe thead th {\n",
       "        text-align: right;\n",
       "    }\n",
       "</style>\n",
       "<table border=\"1\" class=\"dataframe\">\n",
       "  <thead>\n",
       "    <tr style=\"text-align: right;\">\n",
       "      <th></th>\n",
       "      <th>cluster</th>\n",
       "      <th>wlthindf</th>\n",
       "      <th>latitude</th>\n",
       "      <th>longitude</th>\n",
       "    </tr>\n",
       "    <tr>\n",
       "      <th>cluster</th>\n",
       "      <th></th>\n",
       "      <th></th>\n",
       "      <th></th>\n",
       "      <th></th>\n",
       "    </tr>\n",
       "  </thead>\n",
       "  <tbody>\n",
       "    <tr>\n",
       "      <th>1</th>\n",
       "      <td>1</td>\n",
       "      <td>-0.531405</td>\n",
       "      <td>-2.532818</td>\n",
       "      <td>29.684726</td>\n",
       "    </tr>\n",
       "    <tr>\n",
       "      <th>2</th>\n",
       "      <td>2</td>\n",
       "      <td>-0.409830</td>\n",
       "      <td>-1.833858</td>\n",
       "      <td>30.310689</td>\n",
       "    </tr>\n",
       "    <tr>\n",
       "      <th>3</th>\n",
       "      <td>3</td>\n",
       "      <td>-0.478115</td>\n",
       "      <td>-1.888155</td>\n",
       "      <td>29.478298</td>\n",
       "    </tr>\n",
       "    <tr>\n",
       "      <th>4</th>\n",
       "      <td>4</td>\n",
       "      <td>-0.435960</td>\n",
       "      <td>-2.366763</td>\n",
       "      <td>30.521692</td>\n",
       "    </tr>\n",
       "    <tr>\n",
       "      <th>5</th>\n",
       "      <td>5</td>\n",
       "      <td>-0.449480</td>\n",
       "      <td>-2.171266</td>\n",
       "      <td>30.018541</td>\n",
       "    </tr>\n",
       "  </tbody>\n",
       "</table>\n",
       "</div>"
      ],
      "text/plain": [
       "         cluster  wlthindf  latitude  longitude\n",
       "cluster                                        \n",
       "1              1 -0.531405 -2.532818  29.684726\n",
       "2              2 -0.409830 -1.833858  30.310689\n",
       "3              3 -0.478115 -1.888155  29.478298\n",
       "4              4 -0.435960 -2.366763  30.521692\n",
       "5              5 -0.449480 -2.171266  30.018541"
      ]
     },
     "execution_count": 17,
     "metadata": {},
     "output_type": "execute_result"
    }
   ],
   "source": [
    "df_solution = pd.read_csv('/Users/everettwetchler/src/bdd/PS1/intermediate_files/rwanda_cluster_avg_asset_2010.csv')\n",
    "df_solution.set_index('cluster', inplace=True, drop=False)\n",
    "df_solution.head()"
   ]
  },
  {
   "cell_type": "code",
   "execution_count": 18,
   "metadata": {},
   "outputs": [
    {
     "name": "stdout",
     "output_type": "stream",
     "text": [
      "cluster matches given solution\n",
      "wlthindf matches given solution\n",
      "latitude matches given solution\n",
      "longitude matches given solution\n"
     ]
    }
   ],
   "source": [
    "# Make sure the cluster numbers and locations match, at least\n",
    "# As you'll see, our wealth index computations fail\n",
    "for col in df_solution.columns:\n",
    "    errors = abs(df_final[col] - df_solution[col])\n",
    "    matches = (errors < 1e-7).sum()  # Allow for tiny floating point errors\n",
    "    print(\"%s %s given solution\" % (col, 'matches' if matches else 'DOES NOT MATCH'))"
   ]
  },
  {
   "cell_type": "markdown",
   "metadata": {},
   "source": [
    "### B. Exploratory Data Analysis\n",
    "> Conduct some basic statistical analysis of these data, for instance to show the wealth distribution of rwanda (e.g., as a histogram). If you have time, create a map showing the spatial distribution of wealth of Rwanda, as calculated from the DHS. Intpret this analysis -- what have you learned about the distribution of wealth in Rwanda?"
   ]
  },
  {
   "cell_type": "code",
   "execution_count": 19,
   "metadata": {},
   "outputs": [
    {
     "data": {
      "image/png": "[encoded data removed]",
      "text/plain": [
       "<Figure size 864x432 with 1 Axes>"
      ]
     },
     "metadata": {},
     "output_type": "display_data"
    }
   ],
   "source": [
    "fig, ax = plt.subplots(1)\n",
    "fig.set_size_inches(12, 6)\n",
    "sns.kdeplot(df_final['wlthindf'], ax=ax, linewidth=4, label='wlthinf (computed)')\n",
    "sns.kdeplot(df_solution['wlthindf'], ax=ax, linewidth=4, label='wlthinf (given solution)', linestyle='--')\n",
    "\n",
    "ax.set_title(\"Wealth Index Histogram\")\n",
    "ax.set_xlabel(\"Cluster Wealth Index\")\n",
    "ax.set_ylabel(\"Density\")\n",
    "ax.legend()\n",
    "fig.savefig('wealth_index.png')"
   ]
  },
  {
   "cell_type": "code",
   "execution_count": 20,
   "metadata": {},
   "outputs": [],
   "source": [
    "df_final.to_csv('data/computed_rwanda_cluster_avg_asset_2010.csv', index=False)"
   ]
  },
  {
   "cell_type": "markdown",
   "metadata": {},
   "source": [
    "<div style=\"background-color: #800000;height: 20px\"></div>\n",
    "\n",
    "## Observations\n",
    "* Wealth distribution appears to be bimodal:\n",
    "  1. Large poor population ~normally distributed just under 0\n",
    "  2. Small wealthy population ~normally distributed around 2.5"
   ]
  },
  {
   "cell_type": "markdown",
   "metadata": {},
   "source": [
    "<div style=\"background-color: #008000;height: 20px\"></div>\n",
    "\n",
    "# 3. Test whether night lights data can predict wealth, as observed in DHS\n",
    "\n",
    "Now that you have \"ground truth\" measures of average cluster wealth, your goal is to understand whether the nightlights data can be used to predict wealth. First, merge the DHS and nightlights data, and then fit a model of wealth on nightlights."
   ]
  },
  {
   "cell_type": "markdown",
   "metadata": {},
   "source": [
    "<div style=\"background-color: #000080;height: 20px\"></div>\n",
    "\n",
    "## 3.1 Merge nightlights and DHS data at cluster level\n",
    "- **INPUT**: \n",
    " - `F182010.v4d_web.stable_lights.avg_vis.tif`: Nightlights data, from Step 1\n",
    " - `rwanda_cluster_avg_asset_2010.csv`: DHS cluster averages, from Step 2\n",
    "- **OUTPUT**: Merged datasets\n",
    " - `DHS_nightlights.csv`: Merged dataset with 492 rows, and 6 columns (one indicates average cluster wealth, 5 nightlights features)\n",
    " - Scatterplot of nightlights vs. DHS wealth\n",
    "\n",
    "Perform a \"spatial join\" to compute the average nighttime luminosity for each of the DHS clusters. To do this, you should take the average of the luminosity values for the nightlights locations surrounding the cluster centroid.\n",
    "\n",
    "Save your output as `DHS_nightlights.csv` and check that it is the same as the file we have provided.\n",
    "\n",
    "Create a scatterplot showing the relationship between average cluster wealth (y-axis) and average nighttime luminosity (x-axis). Your scatterplot should have one dot for each of the 492 DHS clusters. Report the R^2 of the regression line.\n",
    "\n",
    "Hints:\n",
    " - The resolution of each pixel in the nightlight image is about 1km. Use 10 pixels X 10 pixels to average the luminosity of each cluster.\n",
    " - Start by just taking the **Mean** of the luminosity in the 100 pixels and comparing this to cluster average wealth. If you like, you could also compute other luminosity characteristics of each cluster, such as the **Max**, **Min**, **Standard Deviation** of the 100 pixel values, but this step is not required. Note that the file we provide (`DHS_nightlights.csv`) has these added features.\n",
    " - To read the raw raster (nightlights) files, we recommend using the GDAL library. Use `conda install gdal` to install the GDAL library. We have provided some helper code for this below."
   ]
  },
  {
   "cell_type": "code",
   "execution_count": 21,
   "metadata": {},
   "outputs": [],
   "source": [
    "# Helper function to read a raster file\n",
    "def read_raster(raster_file):\n",
    "    \"\"\"\n",
    "    Function\n",
    "    --------\n",
    "    read_raster\n",
    "\n",
    "    Given a raster file, get the pixel size, pixel location, and pixel value\n",
    "\n",
    "    Parameters\n",
    "    ----------\n",
    "    raster_file : string\n",
    "        Path to the raster file\n",
    "\n",
    "    Returns\n",
    "    -------\n",
    "    x_size : float\n",
    "        Pixel size\n",
    "    top_left_x_coords : numpy.ndarray  shape: (number of columns,)\n",
    "        Longitude of the top-left point in each pixel\n",
    "    top_left_y_coords : numpy.ndarray  shape: (number of rows,)\n",
    "        Latitude of the top-left point in each pixel\n",
    "    centroid_x_coords : numpy.ndarray  shape: (number of columns,)\n",
    "        Longitude of the centroid in each pixel\n",
    "    centroid_y_coords : numpy.ndarray  shape: (number of rows,)\n",
    "        Latitude of the centroid in each pixel\n",
    "    bands_data : numpy.ndarray  shape: (number of rows, number of columns, 1)\n",
    "        Pixel value\n",
    "    \"\"\"\n",
    "    raster_dataset = gdal.Open(raster_file, gdal.GA_ReadOnly)\n",
    "    # get project coordination\n",
    "    proj = raster_dataset.GetProjectionRef()\n",
    "    bands_data = []\n",
    "    # Loop through all raster bands\n",
    "    for b in range(1, raster_dataset.RasterCount + 1):\n",
    "        band = raster_dataset.GetRasterBand(b)\n",
    "        bands_data.append(band.ReadAsArray())\n",
    "        no_data_value = band.GetNoDataValue()\n",
    "    bands_data = np.dstack(bands_data)\n",
    "    rows, cols, n_bands = bands_data.shape\n",
    "\n",
    "    # Get the metadata of the raster\n",
    "    geo_transform = raster_dataset.GetGeoTransform()\n",
    "    (upper_left_x, x_size, x_rotation, upper_left_y, y_rotation, y_size) = geo_transform\n",
    "    \n",
    "    # Get location of each pixel\n",
    "    x_size = 1.0 / int(round(1 / float(x_size)))\n",
    "    y_size = - x_size\n",
    "    y_index = np.arange(bands_data.shape[0])\n",
    "    x_index = np.arange(bands_data.shape[1])\n",
    "    top_left_x_coords = upper_left_x + x_index * x_size\n",
    "    top_left_y_coords = upper_left_y + y_index * y_size\n",
    "    # Add half of the cell size to get the centroid of the cell\n",
    "    centroid_x_coords = top_left_x_coords + (x_size / 2)\n",
    "    centroid_y_coords = top_left_y_coords + (y_size / 2)\n",
    "\n",
    "    return (x_size, top_left_x_coords, top_left_y_coords, centroid_x_coords, centroid_y_coords, bands_data)"
   ]
  },
  {
   "cell_type": "code",
   "execution_count": 22,
   "metadata": {},
   "outputs": [],
   "source": [
    "# Helper function to get the pixel index of the point\n",
    "def get_cell_idx(lon, lat, top_left_x_coords, top_left_y_coords):\n",
    "    \"\"\"\n",
    "    Function\n",
    "    --------\n",
    "    get_cell_idx\n",
    "\n",
    "    Given a point location and all the pixel locations of the raster file,\n",
    "    get the column and row index of the point in the raster\n",
    "\n",
    "    Parameters\n",
    "    ----------\n",
    "    lon : float\n",
    "        Longitude of the point\n",
    "    lat : float\n",
    "        Latitude of the point\n",
    "    top_left_x_coords : numpy.ndarray  shape: (number of columns,)\n",
    "        Longitude of the top-left point in each pixel\n",
    "    top_left_y_coords : numpy.ndarray  shape: (number of rows,)\n",
    "        Latitude of the top-left point in each pixel\n",
    "    \n",
    "    Returns\n",
    "    -------\n",
    "    lon_idx : int\n",
    "        Column index\n",
    "    lat_idx : int\n",
    "        Row index\n",
    "    \"\"\"\n",
    "    lon_idx = np.where(top_left_x_coords < lon)[0][-1]\n",
    "    lat_idx = np.where(top_left_y_coords > lat)[0][-1]\n",
    "    return lon_idx, lat_idx"
   ]
  },
  {
   "cell_type": "code",
   "execution_count": 25,
   "metadata": {},
   "outputs": [],
   "source": [
    "# this illustrates how you can read the nightlight image\n",
    "raster_file = 'data/night_lights/F182010.v4/F182010.v4d_web.stable_lights.avg_vis.tif'\n",
    "x_size, top_left_x_coords, top_left_y_coords, centroid_x_coords, centroid_y_coords, bands_data = read_raster(raster_file)\n",
    "\n",
    "# save the result in compressed format - see https://docs.scipy.org/doc/numpy/reference/generated/numpy.savez.html\n",
    "np.savez('data/nightlight.npz', top_left_x_coords=top_left_x_coords, top_left_y_coords=top_left_y_coords, bands_data=bands_data)"
   ]
  },
  {
   "cell_type": "code",
   "execution_count": 26,
   "metadata": {},
   "outputs": [],
   "source": [
    "# Load NPZ data file\n",
    "npz = np.load('data/nightlight.npz')\n",
    "top_left_x_coords = npz['top_left_x_coords']\n",
    "top_left_y_coords = npz['top_left_y_coords']\n",
    "bands_data = npz['bands_data']"
   ]
  },
  {
   "cell_type": "markdown",
   "metadata": {},
   "source": [
    "## Explore these new functions and data"
   ]
  },
  {
   "cell_type": "code",
   "execution_count": 27,
   "metadata": {},
   "outputs": [
    {
     "name": "stdout",
     "output_type": "stream",
     "text": [
      "Pixel size: 0.008333\n",
      "There are 43201 x (longitude) values\n",
      "There are 16801 y (latitude) values\n",
      "bands_data shape is (16801, 43201, 1)\n"
     ]
    }
   ],
   "source": [
    "print(\"Pixel size: %f\" % x_size)\n",
    "print(\"There are %d x (longitude) values\" % len(top_left_x_coords))\n",
    "print(\"There are %d y (latitude) values\" % len(top_left_y_coords))\n",
    "print(\"bands_data shape is %s\" % str(bands_data.shape))"
   ]
  },
  {
   "cell_type": "code",
   "execution_count": 28,
   "metadata": {},
   "outputs": [
    {
     "data": {
      "text/plain": [
       "Text(0,0.5,'latitude value')"
      ]
     },
     "execution_count": 28,
     "metadata": {},
     "output_type": "execute_result"
    },
    {
     "data": {
      "image/png": "[encoded data removed]",
      "text/plain": [
       "<Figure size 576x288 with 2 Axes>"
      ]
     },
     "metadata": {},
     "output_type": "display_data"
    }
   ],
   "source": [
    "# What do these x and y arrays look like? Apparently equi-spaced:\n",
    "\n",
    "fig, axes = plt.subplots(1, 2)\n",
    "fig.set_size_inches(8, 4)\n",
    "ax = axes[0]\n",
    "ax.plot(top_left_x_coords)\n",
    "ax.set_xlabel(\"x array index\")\n",
    "ax.set_ylabel(\"longitude value\")\n",
    "ax = axes[1]\n",
    "ax.plot(top_left_y_coords)\n",
    "ax.set_xlabel(\"y array index\")\n",
    "ax.set_ylabel(\"latitude value\")"
   ]
  },
  {
   "cell_type": "code",
   "execution_count": 29,
   "metadata": {},
   "outputs": [
    {
     "data": {
      "text/plain": [
       "(0, 0)"
      ]
     },
     "execution_count": 29,
     "metadata": {},
     "output_type": "execute_result"
    }
   ],
   "source": [
    "# Test: this should return the first cell, (0, 0)\n",
    "lat = max(centroid_y_coords)\n",
    "lon = min(centroid_x_coords)\n",
    "get_cell_idx(lon, lat, top_left_x_coords, top_left_y_coords)"
   ]
  },
  {
   "cell_type": "markdown",
   "metadata": {},
   "source": [
    "## Begin solution code"
   ]
  },
  {
   "cell_type": "code",
   "execution_count": 30,
   "metadata": {},
   "outputs": [],
   "source": [
    "def get_area_luminosity_values(lon, lat):\n",
    "    '''Return list of luminosity values for pixels within 10km of a point.'''\n",
    "    x, y = get_cell_idx(lon, lat, top_left_x_coords, top_left_y_coords)\n",
    "\n",
    "    # We want a 10x10 square of pixels, meaning the central pixel plus\n",
    "    # 9 others. This odd number doesn't evenly flank our central pixel.\n",
    "    # After experimenting, it seems the existing data simply takes\n",
    "    # 5 pixels left/above and 4 pixels right/below, though we should\n",
    "    # really be computing which boundary it's closer to (commented out code)\n",
    "    x_start = x - 5\n",
    "    y_start = y - 5\n",
    "#     if x < len(top_left_x_coords - 1):\n",
    "#         #   (distance to left pixel edge) > (distance to right pixel edge)\n",
    "#         if abs(lon - top_left_x_coords[x]) > abs(lon - top_left_x_coords[x + 1]):\n",
    "#             x_start += 1\n",
    "#     if y < len(top_left_y_coords - 1):\n",
    "#         #   (distance to top pixel edge) > (distance to bottom pixel edge)\n",
    "#         if abs(lat - top_left_y_coords[y]) > abs(lat - top_left_y_coords[y + 1]):\n",
    "#             y_start += 1\n",
    "    x_end = x_start + 10\n",
    "    y_end = y_start + 10\n",
    "    \n",
    "    # Drop pixels that are off the map edge\n",
    "    x_start = max(0, x_start)\n",
    "    y_start = max(0, y_start)\n",
    "    x_end = min(x_end, len(top_left_x_coords))\n",
    "    y_end = min(y_end, len(top_left_y_coords))\n",
    "\n",
    "    luminosities = []\n",
    "    for xx in range(x_start, x_end):\n",
    "        for yy in range(y_start, y_end):\n",
    "            luminosities.append(bands_data[yy][xx][0])\n",
    "    return luminosities"
   ]
  },
  {
   "cell_type": "code",
   "execution_count": 31,
   "metadata": {},
   "outputs": [
    {
     "data": {
      "text/html": [
       "<div>\n",
       "<style scoped>\n",
       "    .dataframe tbody tr th:only-of-type {\n",
       "        vertical-align: middle;\n",
       "    }\n",
       "\n",
       "    .dataframe tbody tr th {\n",
       "        vertical-align: top;\n",
       "    }\n",
       "\n",
       "    .dataframe thead th {\n",
       "        text-align: right;\n",
       "    }\n",
       "</style>\n",
       "<table border=\"1\" class=\"dataframe\">\n",
       "  <thead>\n",
       "    <tr style=\"text-align: right;\">\n",
       "      <th></th>\n",
       "      <th>id</th>\n",
       "      <th>max_</th>\n",
       "      <th>mean_</th>\n",
       "      <th>median_</th>\n",
       "      <th>min_</th>\n",
       "      <th>std_</th>\n",
       "      <th>wealth</th>\n",
       "    </tr>\n",
       "  </thead>\n",
       "  <tbody>\n",
       "    <tr>\n",
       "      <th>0</th>\n",
       "      <td>1.0</td>\n",
       "      <td>6.0</td>\n",
       "      <td>0.06</td>\n",
       "      <td>0.0</td>\n",
       "      <td>0.0</td>\n",
       "      <td>0.596992</td>\n",
       "      <td>-0.531405</td>\n",
       "    </tr>\n",
       "    <tr>\n",
       "      <th>1</th>\n",
       "      <td>2.0</td>\n",
       "      <td>0.0</td>\n",
       "      <td>0.00</td>\n",
       "      <td>0.0</td>\n",
       "      <td>0.0</td>\n",
       "      <td>0.000000</td>\n",
       "      <td>-0.409830</td>\n",
       "    </tr>\n",
       "    <tr>\n",
       "      <th>2</th>\n",
       "      <td>3.0</td>\n",
       "      <td>0.0</td>\n",
       "      <td>0.00</td>\n",
       "      <td>0.0</td>\n",
       "      <td>0.0</td>\n",
       "      <td>0.000000</td>\n",
       "      <td>-0.478115</td>\n",
       "    </tr>\n",
       "    <tr>\n",
       "      <th>3</th>\n",
       "      <td>4.0</td>\n",
       "      <td>0.0</td>\n",
       "      <td>0.00</td>\n",
       "      <td>0.0</td>\n",
       "      <td>0.0</td>\n",
       "      <td>0.000000</td>\n",
       "      <td>-0.435960</td>\n",
       "    </tr>\n",
       "    <tr>\n",
       "      <th>4</th>\n",
       "      <td>5.0</td>\n",
       "      <td>0.0</td>\n",
       "      <td>0.00</td>\n",
       "      <td>0.0</td>\n",
       "      <td>0.0</td>\n",
       "      <td>0.000000</td>\n",
       "      <td>-0.449480</td>\n",
       "    </tr>\n",
       "  </tbody>\n",
       "</table>\n",
       "</div>"
      ],
      "text/plain": [
       "    id  max_  mean_  median_  min_      std_    wealth\n",
       "0  1.0   6.0   0.06      0.0   0.0  0.596992 -0.531405\n",
       "1  2.0   0.0   0.00      0.0   0.0  0.000000 -0.409830\n",
       "2  3.0   0.0   0.00      0.0   0.0  0.000000 -0.478115\n",
       "3  4.0   0.0   0.00      0.0   0.0  0.000000 -0.435960\n",
       "4  5.0   0.0   0.00      0.0   0.0  0.000000 -0.449480"
      ]
     },
     "execution_count": 31,
     "metadata": {},
     "output_type": "execute_result"
    }
   ],
   "source": [
    "# Build our complete dataframe for modelling\n",
    "d = df_solution.T.to_dict()\n",
    "\n",
    "for cluster, values in d.items():\n",
    "    lums = get_area_luminosity_values(values['longitude'], values['latitude'])\n",
    "    values.update({\n",
    "        'max_': np.max(lums),\n",
    "        'mean_': np.mean(lums),\n",
    "        'median_': np.median(lums),\n",
    "        'min_': np.min(lums),\n",
    "        'std_': np.std(lums),\n",
    "    })\n",
    "    del values['longitude']\n",
    "    del values['latitude']\n",
    "    for a, b in (('cluster', 'id'), ('wlthindf', 'wealth')):\n",
    "        values[b] = values[a]\n",
    "        del values[a]\n",
    "\n",
    "df = pd.DataFrame.from_dict(d).T\n",
    "df.reset_index(inplace=True, drop=True)\n",
    "df.head()"
   ]
  },
  {
   "cell_type": "code",
   "execution_count": 32,
   "metadata": {},
   "outputs": [
    {
     "data": {
      "text/html": [
       "<div>\n",
       "<style scoped>\n",
       "    .dataframe tbody tr th:only-of-type {\n",
       "        vertical-align: middle;\n",
       "    }\n",
       "\n",
       "    .dataframe tbody tr th {\n",
       "        vertical-align: top;\n",
       "    }\n",
       "\n",
       "    .dataframe thead th {\n",
       "        text-align: right;\n",
       "    }\n",
       "</style>\n",
       "<table border=\"1\" class=\"dataframe\">\n",
       "  <thead>\n",
       "    <tr style=\"text-align: right;\">\n",
       "      <th></th>\n",
       "      <th>id</th>\n",
       "      <th>max_</th>\n",
       "      <th>mean_</th>\n",
       "      <th>median_</th>\n",
       "      <th>min_</th>\n",
       "      <th>std_</th>\n",
       "      <th>wealth</th>\n",
       "    </tr>\n",
       "  </thead>\n",
       "  <tbody>\n",
       "    <tr>\n",
       "      <th>0</th>\n",
       "      <td>1.0</td>\n",
       "      <td>6.0</td>\n",
       "      <td>0.06</td>\n",
       "      <td>0.0</td>\n",
       "      <td>0.0</td>\n",
       "      <td>0.596992</td>\n",
       "      <td>-0.531405</td>\n",
       "    </tr>\n",
       "    <tr>\n",
       "      <th>1</th>\n",
       "      <td>2.0</td>\n",
       "      <td>0.0</td>\n",
       "      <td>0.00</td>\n",
       "      <td>0.0</td>\n",
       "      <td>0.0</td>\n",
       "      <td>0.000000</td>\n",
       "      <td>-0.409830</td>\n",
       "    </tr>\n",
       "    <tr>\n",
       "      <th>2</th>\n",
       "      <td>3.0</td>\n",
       "      <td>0.0</td>\n",
       "      <td>0.00</td>\n",
       "      <td>0.0</td>\n",
       "      <td>0.0</td>\n",
       "      <td>0.000000</td>\n",
       "      <td>-0.478115</td>\n",
       "    </tr>\n",
       "    <tr>\n",
       "      <th>3</th>\n",
       "      <td>4.0</td>\n",
       "      <td>0.0</td>\n",
       "      <td>0.00</td>\n",
       "      <td>0.0</td>\n",
       "      <td>0.0</td>\n",
       "      <td>0.000000</td>\n",
       "      <td>-0.435960</td>\n",
       "    </tr>\n",
       "    <tr>\n",
       "      <th>4</th>\n",
       "      <td>5.0</td>\n",
       "      <td>0.0</td>\n",
       "      <td>0.00</td>\n",
       "      <td>0.0</td>\n",
       "      <td>0.0</td>\n",
       "      <td>0.000000</td>\n",
       "      <td>-0.449480</td>\n",
       "    </tr>\n",
       "  </tbody>\n",
       "</table>\n",
       "</div>"
      ],
      "text/plain": [
       "    id  max_  mean_  median_  min_      std_    wealth\n",
       "0  1.0   6.0   0.06      0.0   0.0  0.596992 -0.531405\n",
       "1  2.0   0.0   0.00      0.0   0.0  0.000000 -0.409830\n",
       "2  3.0   0.0   0.00      0.0   0.0  0.000000 -0.478115\n",
       "3  4.0   0.0   0.00      0.0   0.0  0.000000 -0.435960\n",
       "4  5.0   0.0   0.00      0.0   0.0  0.000000 -0.449480"
      ]
     },
     "execution_count": 32,
     "metadata": {},
     "output_type": "execute_result"
    }
   ],
   "source": [
    "# See if our dataframe matches the key given to us\n",
    "# (allowing some error for floating point math)\n",
    "key = pd.read_csv('intermediate_files/DHS_nightlights.csv')\n",
    "key.head()"
   ]
  },
  {
   "cell_type": "code",
   "execution_count": 33,
   "metadata": {},
   "outputs": [
    {
     "data": {
      "text/plain": [
       "id         0\n",
       "max_       0\n",
       "mean_      0\n",
       "median_    0\n",
       "min_       0\n",
       "std_       0\n",
       "wealth     0\n",
       "dtype: int64"
      ]
     },
     "execution_count": 33,
     "metadata": {},
     "output_type": "execute_result"
    }
   ],
   "source": [
    "# These should be zero for all columns\n",
    "((df - key) > 1e-8).sum()"
   ]
  },
  {
   "cell_type": "code",
   "execution_count": 34,
   "metadata": {},
   "outputs": [
    {
     "data": {
      "text/plain": [
       "Text(0.5,1,'Luminosity vs wealth, $r^2$=0.74')"
      ]
     },
     "execution_count": 34,
     "metadata": {},
     "output_type": "execute_result"
    },
    {
     "data": {
      "image/png": "[encoded data removed]",
      "text/plain": [
       "<Figure size 648x432 with 1 Axes>"
      ]
     },
     "metadata": {},
     "output_type": "display_data"
    }
   ],
   "source": [
    "x = df.mean_\n",
    "y = df.wealth\n",
    "r2 = x.corr(y) ** 2\n",
    "\n",
    "fig, ax = plt.subplots(1)\n",
    "sns.regplot(x, y, ci=None, ax=ax)\n",
    "ax.set_xlabel(\"mean luminosity\")\n",
    "ax.set_title(\"Luminosity vs wealth, $r^2$=%.2f\" % r2)"
   ]
  },
  {
   "cell_type": "markdown",
   "metadata": {},
   "source": [
    "<div style=\"background-color: #000080;height: 20px\"></div>\n",
    "\n",
    "## 3.2. Fit a model of wealth as a function of nightlights\n",
    "- **INPUT**: \n",
    " - `DHS_nightlights.csv`, from Step 3.1\n",
    "- **OUTPUT**: \n",
    " - R^2 of model\n",
    " \n",
    "Above, you fit a regression line to illustrate the relationship between cluster average wealth and corresponding cluster nightlights. Now, use [cross-validation](https://en.wikipedia.org/wiki/Cross-validation_%28statistics%29) to get a better sense of out of sample accuracy. Report the cross-validated accuracy (R^2); how does it compare to the accuracy you reported in 3.1? How do you interpret these differences?\n",
    "\n",
    "There are two options for this. The basic way, for those new to machine learning, is to randomly divide your dataset into a training and a test dataset. Randomly select 80% of your clusters and fit a model of cluster-average DHS wealth (your response/dependent variable) on nightlights (your predictor/independent variables). You can use a regression or any other model you prefer. Then, use that model to predict the wealth of the remaining 20% of your data, and compare the predicted values to the actual values, and report the R^2 on these 20%.\n",
    "\n",
    "The preferred way is to use 10-fold cross-validation, where you repeat the above procedure 10 times, so that you have 10 different and non-overlapping test sets. Then, you report the cross-validated R^2 of your model (i.e., the average R^2 of your 10 test folds).\n",
    "\n",
    "Hints:\n",
    " - The scikit learn library has built-in functions for [cross-validation](http://scikit-learn.org/stable/modules/cross_validation.html) that make this quite easy.\n",
    " \n"
   ]
  },
  {
   "cell_type": "code",
   "execution_count": 35,
   "metadata": {},
   "outputs": [
    {
     "name": "stdout",
     "output_type": "stream",
     "text": [
      "Mean r²=0.720 (std 0.120)\n"
     ]
    },
    {
     "data": {
      "image/png": "[encoded data removed]",
      "text/plain": [
       "<Figure size 648x432 with 1 Axes>"
      ]
     },
     "metadata": {},
     "output_type": "display_data"
    }
   ],
   "source": [
    "X = df[['mean_']].values\n",
    "y = df['wealth'].values\n",
    "\n",
    "scores = cross_val_score(Ridge(), X, y, cv=10, scoring='r2')\n",
    "mu = np.mean(scores)\n",
    "sd = np.std(scores)\n",
    "print(\"Mean r²=%.3f (std %.3f)\" % (mu, sd))\n",
    "\n",
    "fig, ax = plt.subplots(1)\n",
    "sns.kdeplot(scores, ax=ax, linewidth=3)\n",
    "ax.set_xlabel('$r^2$ score')\n",
    "ax.set_ylabel('Density')\n",
    "ax.set_title(\"$r^2$ distribution across 10 folds, mean $r^2$=%.3f, std %.3f\" % (mu, sd))\n",
    "pass"
   ]
  },
  {
   "cell_type": "markdown",
   "metadata": {},
   "source": [
    "<div style=\"background-color: #800000;height: 20px\"></div>\n",
    "\n",
    "## Observations\n",
    "* The mean r² score is slightly lower than the overall r², which makes sense as the overall r² fits to the full data and therefore overfits to some extent.\n",
    "* The variance in r² scores is higher than I expected - meaning the model can be substantially less accurate for any given subset of clusters (~50 in each fold here)."
   ]
  },
  {
   "cell_type": "markdown",
   "metadata": {},
   "source": [
    "# 4. Download daytime satellite imagery \n",
    "- **INPUT**: \n",
    " - Google Maps API key\n",
    " - `Sector_Boundary_2012.shp`: Rwandan shapefile\n",
    "- **OUTPUT**: \n",
    " - Thousands of satellite images (store in directory `google_image/`)\n",
    "\n",
    "We will use the Google Static Maps API to download satellite images. Refer to the [Google Static Maps introduction](https://developers.google.com/maps/documentation/maps-static/dev-guide) and [Google Static Maps API Usage Limits](https://developers.google.com/maps/documentation/static-maps/usage-limits). You must apply for an API key before downloading. ** Note that it may take you several days to download the required images, so start early!**\n",
    "\n",
    "Download the images from Google at zoom level 16 (pixel resolution is about 2.5m). Set the image size to be 400 pixels X 400 pixels, so that each image you download will cover 1 square kilometer. In this way, each daytime image you download will correspond to a single pixel from the nighttime imagery from Step 1 above.\n",
    "\n",
    "Note: The Google Map API requires that you \"enable billing on each of your projects.\" Note that \"when you enable billing, you get \\$200 free usage every month for Maps, Routes, or Places. Based on the millions of users using our APIs today, most of them can continue to use Google Maps Platform for free with this credit.\" ([ref](https://cloud.google.com/maps-platform/user-guide/pricing-changes/)) For this problem set, you will need to download about 50,000 -- this costs about \\$100. So the \\$200 free usage every month should be enough, as long as you are careful :) Remember to set a budget alert to track how your spend is growing toward a particular amount ([ref](https://cloud.google.com/billing/docs/how-to/budgets)).\n",
    "\n",
    "Hints:\n",
    " - You will need to tell Google the locations for which you wish to download images. One way to do this is to use a [shapefiles](https://en.wikipedia.org/wiki/Shapefile) that specifies the borders of Rwanda. We have provided this shapefile (`Sector_Boundary_2012.shp`) as well as a helper function to read in the shapefile.\n",
    " - The function we provide below does not limit the maximum number of images downloaded per day. Note that if you attempt to  download more than the daily limit, Google will return blank images instead of an error.\n",
    " - You can organize the files however you like. However, for later analysis (Steps 6 and beyond), it may help if you organize these daytime images into 64 folders, with one folder indicating the nightlight intensity of the pixel corresponding to the daytime image. In other words, if you download a daytime image for which the corresponding nighttime pixel has value 32, store that daytime image in a folder labeled '32'. This way, all the satellite images within each folder will have the same nightlight intensity. The file name is columnIndex_rowIndex.jpg, in which row index and column index are the index in the nightlight image (See the diagram below)."
   ]
  },
  {
   "cell_type": "markdown",
   "metadata": {},
   "source": [
    "![title](figure/data_description.png)"
   ]
  },
  {
   "cell_type": "code",
   "execution_count": 37,
   "metadata": {},
   "outputs": [],
   "source": [
    "# Helper function to read a shapefile\n",
    "def get_shp_extent(shp_file):\n",
    "    \"\"\"\n",
    "    Function\n",
    "    --------\n",
    "    get_shp_extent\n",
    "\n",
    "    Given a shapefile, get the extent (boundaries)\n",
    "\n",
    "    Parameters\n",
    "    ----------\n",
    "    shp_file : string\n",
    "        Path to the shapefile\n",
    "    \n",
    "    Returns\n",
    "    -------\n",
    "    extent : tuple\n",
    "        Boundary location of the shapefile (x_min, y_min, x_max, y_max)\n",
    "    \"\"\"\n",
    "    shape = fiona.open(shp_file)\n",
    "    extent = shape.bounds\n",
    "    return extent"
   ]
  },
  {
   "cell_type": "code",
   "execution_count": 38,
   "metadata": {},
   "outputs": [],
   "source": [
    "import urllib2"
   ]
  },
  {
   "cell_type": "code",
   "execution_count": 39,
   "metadata": {},
   "outputs": [],
   "source": [
    "# Helper functions to download images from Google Maps API\n",
    "\n",
    "# Stop after trying 10 times\n",
    "@retry(stop_max_attempt_number=10)\n",
    "def save_img(url, file_path, file_name, timeout=5):\n",
    "    \"\"\"\n",
    "    Function\n",
    "    --------\n",
    "    save_img\n",
    "\n",
    "    Given a url of the map, save the image\n",
    "\n",
    "    Parameters\n",
    "    ----------\n",
    "    url : string\n",
    "        URL of the map from Google Map Static API\n",
    "    file_path : string\n",
    "        Folder name of the map\n",
    "    file_name : string\n",
    "        File name\n",
    "    \n",
    "    Returns\n",
    "    -------\n",
    "    None\n",
    "    \"\"\"\n",
    "    a = urllib2.urlopen(url, timeout=5).read()\n",
    "    b = StringIO(a)\n",
    "    image = ndimage.imread(b, mode='RGB')\n",
    "    # when no image exists, api will return an image with the same color. \n",
    "    # and in the center of the image, it said'Sorry. We have no imagery here'.\n",
    "    # we should drop these images if large area of the image has the same color.\n",
    "    if np.array_equal(image[:,:10,:],image[:,10:20,:]):\n",
    "        pass\n",
    "    else:\n",
    "        # Chop of the top and bottom of the image, to remove watermarks\n",
    "        misc.imsave(file_path + file_name, image[50:450, :, :])"
   ]
  },
  {
   "cell_type": "code",
   "execution_count": 40,
   "metadata": {},
   "outputs": [
    {
     "name": "stdout",
     "output_type": "stream",
     "text": [
      "(28.861730820284293, -2.8402301026069785, 30.89974664177404, -1.0471667072395556)\n"
     ]
    }
   ],
   "source": [
    "# Now read in the shapefile for Rwanda and extract the edges of the country\n",
    "inShapefile = \"provided/Sector_Boundary_2012/Sector_Boundary_2012.shp\"\n",
    "x_min_shp, y_min_shp, x_max_shp, y_max_shp = get_shp_extent(inShapefile)\n",
    "print(x_min_shp, y_min_shp, x_max_shp, y_max_shp)"
   ]
  },
  {
   "cell_type": "code",
   "execution_count": 41,
   "metadata": {},
   "outputs": [
    {
     "name": "stdout",
     "output_type": "stream",
     "text": [
      "(25063, 9126, 25308, 9341)\n"
     ]
    }
   ],
   "source": [
    "left_idx, top_idx = get_cell_idx(x_min_shp, y_max_shp, top_left_x_coords, top_left_y_coords)\n",
    "right_idx, bottom_idx = get_cell_idx(x_max_shp, y_min_shp, top_left_x_coords, top_left_y_coords)\n",
    "print(left_idx, top_idx, right_idx, bottom_idx)"
   ]
  },
  {
   "cell_type": "code",
   "execution_count": 42,
   "metadata": {},
   "outputs": [
    {
     "name": "stdout",
     "output_type": "stream",
     "text": [
      "Fetching 53136 images (246 wide x 216 high)\n"
     ]
    }
   ],
   "source": [
    "num_x = (right_idx - left_idx + 1)\n",
    "num_y = (bottom_idx - top_idx + 1)\n",
    "N = num_x * num_y\n",
    "print(\"Fetching %d images (%d wide x %d high)\" % (N, num_x, num_y))"
   ]
  },
  {
   "cell_type": "code",
   "execution_count": 54,
   "metadata": {},
   "outputs": [],
   "source": [
    "import hashlib\n",
    "import hmac\n",
    "import base64\n",
    "import urlparse"
   ]
  },
  {
   "cell_type": "code",
   "execution_count": 56,
   "metadata": {},
   "outputs": [],
   "source": [
    "def sign_url(input_url=None, secret=None):\n",
    "  \"\"\" Sign a request URL with a URL signing secret.\n",
    "\n",
    "      Usage:\n",
    "      from urlsigner import sign_url\n",
    "\n",
    "      signed_url = sign_url(input_url=my_url, secret=SECRET)\n",
    "\n",
    "      Args:\n",
    "      input_url - The URL to sign\n",
    "      secret    - Your URL signing secret\n",
    "\n",
    "      Returns:\n",
    "      The signed request URL\n",
    "  \"\"\"\n",
    "\n",
    "  if not input_url or not secret:\n",
    "    raise Exception(\"Both input_url and secret are required\")\n",
    "\n",
    "  url = urlparse.urlparse(input_url)\n",
    "\n",
    "  # We only need to sign the path+query part of the string\n",
    "  url_to_sign = url.path + \"?\" + url.query\n",
    "\n",
    "  # Decode the private key into its binary format\n",
    "  # We need to decode the URL-encoded private key\n",
    "  decoded_key = base64.urlsafe_b64decode(secret)\n",
    "\n",
    "  # Create a signature using the private key and the URL-encoded\n",
    "  # string using HMAC SHA1. This signature will be binary.\n",
    "  signature = hmac.new(decoded_key, url_to_sign, hashlib.sha1)\n",
    "\n",
    "  # Encode the binary signature into base64 for use within a URL\n",
    "  encoded_signature = base64.urlsafe_b64encode(signature.digest())\n",
    "\n",
    "  original_url = url.scheme + \"://\" + url.netloc + url.path + \"?\" + url.query\n",
    "\n",
    "  # Return signed URL\n",
    "  return original_url + \"&signature=\" + encoded_signature"
   ]
  },
  {
   "cell_type": "code",
   "execution_count": 60,
   "metadata": {},
   "outputs": [],
   "source": [
    "z = None\n",
    "try:\n",
    "    a = urllib2.urlopen(sign_url(url, secret), timeout=5)\n",
    "except urllib2.HTTPError, e:\n",
    "    #a.read()\n",
    "    print('errrrr')\n",
    "    z = e\n",
    "# save_img(url, './', 'tmp.png')"
   ]
  },
  {
   "cell_type": "code",
   "execution_count": 111,
   "metadata": {},
   "outputs": [],
   "source": [
    "key = open('PRIVATE_GMAPS_API_KEY').read().strip()\n",
    "secret = open('PRIVATE_GMAPS_SIGNATURE_SECRET').read().strip()\n",
    "assert key\n",
    "assert secret"
   ]
  },
  {
   "cell_type": "code",
   "execution_count": 113,
   "metadata": {},
   "outputs": [
    {
     "name": "stdout",
     "output_type": "stream",
     "text": [
      "Finished with 0 errors.\n"
     ]
    }
   ],
   "source": [
    "# Note that we fetch a 400x500 image. This is because google adds a watermark\n",
    "# to the bottom of every image. In order to get rid of this, we request images\n",
    "# a bit taller than we want, then chop off the extra height (including the watermark).\n",
    "m = 0\n",
    "errors = []\n",
    "for i in xrange(left_idx, right_idx + 1):\n",
    "    for j in xrange(top_idx, bottom_idx + 1):\n",
    "        lon = centroid_x_coords[i]\n",
    "        lat = centroid_y_coords[j]\n",
    "        url = 'https://maps.googleapis.com/maps/api/staticmap?center=' + str(lat) + ',' + \\\n",
    "               str(lon) + '&zoom=16&size=400x500&maptype=satellite&key=' + key\n",
    "        url = sign_url(url, secret)\n",
    "        lightness = bands_data[j, i, 0]\n",
    "        file_path = 'google_image/' + str(lightness) + '/'\n",
    "        if not os.path.isdir(file_path):\n",
    "            os.makedirs(file_path)\n",
    "        file_name = str(i) + '_' + str(j) +'.jpg'\n",
    "        if os.path.isfile(os.path.join(file_path, file_name)):\n",
    "            # Already fetched this one\n",
    "            m += 1\n",
    "            continue\n",
    "        try:\n",
    "            save_img(url, file_path, file_name)\n",
    "        except Exception, e:\n",
    "            print(\"ERROR on %d,%d\" % (i, j))\n",
    "            errors.append([i, j, url, file_path, file_name, e])\n",
    "        if m % 100 == 0:\n",
    "            print(time.time())\n",
    "        m += 1\n",
    "        print('(%d, %d) %d/%d fetched' % (i, j, m, N))\n",
    "\n",
    "print(\"Finished with %d errors.\" % len(errors))\n",
    "if errors:\n",
    "    print('Rerun this cell to re-attempt the missing images.')"
   ]
  },
  {
   "cell_type": "code",
   "execution_count": 90,
   "metadata": {},
   "outputs": [
    {
     "name": "stdout",
     "output_type": "stream",
     "text": [
      "Complete. Saved all 53136 images.\n",
      "96.45% of images had zero luminosity at the central pixel\n"
     ]
    }
   ],
   "source": [
    "luminosities = []\n",
    "n_images = 0\n",
    "for folder in os.listdir('google_image/'):\n",
    "    if os.path.isdir('google_image/' + folder) and folder.isdigit():\n",
    "        found = sum(1 for f in os.listdir('google_image/' + folder) if f.endswith('jpg'))\n",
    "        luminosities.extend([int(folder)] * found)\n",
    "        n_images += found\n",
    "\n",
    "if n_images == N:\n",
    "    print(\"Complete. Saved all %d images.\" % N)\n",
    "    zeros = sum(1 for x in luminosities if x == 0)\n",
    "    print(\"%.2f%% of images had zero luminosity at the central pixel\" % (zeros * 100.0 / N))\n",
    "else:\n",
    "    print(\"INCOMPLETE: Saved %d images but expected %d\" % (N, n_images))"
   ]
  },
  {
   "cell_type": "code",
   "execution_count": 119,
   "metadata": {},
   "outputs": [
    {
     "data": {
      "text/plain": [
       "Text(0,0.5,'Number of images')"
      ]
     },
     "execution_count": 119,
     "metadata": {},
     "output_type": "execute_result"
    },
    {
     "data": {
      "image/png": "[encoded data removed]",
      "text/plain": [
       "<Figure size 648x432 with 1 Axes>"
      ]
     },
     "metadata": {},
     "output_type": "display_data"
    }
   ],
   "source": [
    "fig, ax = plt.subplots(1)\n",
    "pd.Series([x for x in luminosities if x > 0]).hist(ax=ax, bins=[1,10,20,30,40,50,60, 70])\n",
    "ax.set_title(\"Distribution of images with non-zero \\nnighttime luminosities (on central pixel)\")\n",
    "ax.set_xlabel(\"Nighttime luminosity of central pixel\")\n",
    "ax.set_ylabel(\"Number of images\")"
   ]
  },
  {
   "cell_type": "markdown",
   "metadata": {},
   "source": [
    "# 5. Test whether basic features of daytime imagery can predict wealth\n",
    "In step 3, you tested whether nightlight imagery could predict the wealth of Rwandan villages. You will now test whether daytime imagery can predict village wealth. Start by extracting simple metrics from the daytime imagery; in step 6 you will use more sophsticated methods to engineer these features from the images. **You don't need to do this step if you are able to do step 6.**\n",
    "\n",
    "## 5.1. Extract \"basic\" features from daytime imagery\n",
    "- **INPUT**: \n",
    " - `google_image/...`: Raw images, from Step 4\n",
    "- **OUTPUT**: \n",
    " - `google_image_features_basic.csv`: Image features \n",
    "\n",
    "Convert the raw data from the satellite imagery into a set of features that can be used in a machine learning algorithm. A simple way to do this is to take the raw R/G/B values for each pixel and average them for the image. Thus, if an image has 100 pixels, you will have an average R value, an average G value, and an average B value. Create more features by also computing the min, max, median, and standard deviation of R, G, and B for each image. This process will convert each image into a vector of 15 features. Show three different histograms that indicate the distribution of average R/G/B values in your images.\n",
    "\n",
    "Feel free to be creative if you wish to generate additional features from the imagery -- this is similar to the process described in section 2.3 of the paper's supplementary materials. But don't waste too much time, and don't expect these features to be terribly useful."
   ]
  },
  {
   "cell_type": "code",
   "execution_count": null,
   "metadata": {
    "collapsed": true
   },
   "outputs": [],
   "source": [
    "#\n",
    "# Your code here\n",
    "#"
   ]
  },
  {
   "cell_type": "markdown",
   "metadata": {},
   "source": [
    "## 5.2. Merge daytime images with DHS data\n",
    "\n",
    "- **INPUT**: \n",
    " - `google_image_features_basic.csv`: Satellite imagery features, from Step 5.1\n",
    " - `rwanda_cluster_avg_asset_2010.csv`: DHS cluster averages, from Step 2\n",
    "- **OUTPUT**: Merged datasets\n",
    " - `data/model/DHS_daytime.csv`: Merged dataset with 492 rows, and 16 columns (one indicates average cluster wealth, 15 daytime image features)\n",
    "\n",
    "Now that you have feature vectors for each image, you should merge these with the DHS data indicating average cluster wealth. Follow a similar procedure as you did with 3.1, i.e., determine which image feature vectors are associated with each cluster, and then calculate, for each cluster, the average value of each feature. \n",
    "\n",
    "Save your output as `DHS_daytime.csv` and check that it is roughly the same as the file we have provided. There may be slight differences if you chose to calculate a different set of features than those described in 5.1.\n",
    "\n",
    " - Show three histograms of the distribution of R/G/B values of the average cluster image features (in other words, each histogram should contain 492 points).\n",
    " - Create three scatterplots (one for each of the R/G/B channels) that shows how average color intensity of the cluster (x-axis) relates to average cluster wealth (y-axis). What do you observe?"
   ]
  },
  {
   "cell_type": "code",
   "execution_count": null,
   "metadata": {
    "collapsed": true
   },
   "outputs": [],
   "source": [
    "#\n",
    "# Your code here\n",
    "#"
   ]
  },
  {
   "cell_type": "markdown",
   "metadata": {},
   "source": [
    "\n",
    "*Replace this section with your observations and interpretation*\n"
   ]
  },
  {
   "cell_type": "markdown",
   "metadata": {},
   "source": [
    "## 5.3. Fit a model of wealth as a function of basic daytime features\n",
    "- **INPUT**: \n",
    " - `data/model/DHS_daytime.csv`, from Step 5.2\n",
    "- **OUTPUT**: \n",
    " - R^2 of model\n",
    " \n",
    "As in 3.2, use 10-fold cross-validation to fit a model of cluster-level DHS wealth (your response/dependent variable) as a function of the nightlights data (your predictor/independent variables). Since you have a reasonably large number of predictor variables, you should use a model that incorporates some form of regularization (e.g., ridge regression, lasso regression, or a tree-based method).  Report the cross-validated R^2 of your model (i.e., the average R^2 of your 10 test folds).\n",
    "\n",
    "How does this model's performance compare to that of the nightlights model? Can you think of any other ways (aside from deep learning) that you might use to improve the features being extracted from daytime imagery, which might improve the predictive performance of your model?\n",
    "\n",
    "*Note:* Even if you do not choose to do parts 6-7, make sure you do parts 8 and 9!"
   ]
  },
  {
   "cell_type": "code",
   "execution_count": null,
   "metadata": {
    "collapsed": true
   },
   "outputs": [],
   "source": [
    "#\n",
    "# Your code here\n",
    "#"
   ]
  },
  {
   "cell_type": "markdown",
   "metadata": {},
   "source": [
    "\n",
    "*Replace this section with your observations and interpretation*\n"
   ]
  },
  {
   "cell_type": "markdown",
   "metadata": {},
   "source": [
    "<a id='step_6'></a>"
   ]
  },
  {
   "cell_type": "markdown",
   "metadata": {},
   "source": [
    "# 6. *Optional*: Use deep learning to extract fancier features\n",
    "\n",
    "This is where things get interesting. You will use existing libraries to extract more meaningful features from the daytime imagery, similar to what is shown in Fig. 2 of the paper.\n",
    "\n",
    "## 6.1. Use the keras library to use a basic CNN to extract features of the daytime images \n",
    " \n",
    "- **INPUT**: \n",
    " - `google_image/...`: Raw images, from Step 4\n",
    "- **OUTPUT**: \n",
    " - `google_image_features_cnn.csv`: Image features \n",
    "\n",
    "Begin by using a Convolutional Neural Network that has been pre-trained on ImageNet to extract features from the images. We recommend using the [`Keras` library](https://keras.io/), which provides a very straightforward interface to [TensorFlow](https://www.tensorflow.org/).\n",
    "\n",
    "Hints:\n",
    " - This [short intro](https://github.com/fchollet/deep-learning-models/blob/master/README.md) will help you get started with extracting features from the CNN."
   ]
  },
  {
   "cell_type": "code",
   "execution_count": null,
   "metadata": {
    "collapsed": true
   },
   "outputs": [],
   "source": [
    "#\n",
    "# Your code here\n",
    "#"
   ]
  },
  {
   "cell_type": "markdown",
   "metadata": {},
   "source": [
    "# 6.2. Test whether these new features of satellite imagery can predict wealth\n",
    "- **INPUT**: \n",
    " - `google_image_features_cnn.csv`: Satellite imagery features, from Step 6.1\n",
    " - `rwanda_cluster_avg_asset_2010.csv`: DHS cluster averages, from Step 2\n",
    "- **OUTPUT**: \n",
    " - `data/model/DHS_daytime.csv`: Merged dataset with 492 rows, and 4097 columns (one indicates average cluster wealth, 4096 CNN-based features)\n",
    " - R^2 of model\n",
    " \n",
    "Calculate the average value of each feature for each of the DHS clusters. As in Step 3.1 and 5.2, you will want to aggregate over images near the cluster centroid by taking the average value for each feature. Create a scatterplot showing the relationship between average cluster wealth (y-axis) and the first principal component of all of your image features (x-axis) - in other words, run PCA on your 4096 image features and plot the first PC on the x-axis. Your scatterplot should have one dot for each of the 492 DHS clusters.\n",
    "\n",
    "Use 10-fold cross-validation to fit a model of cluster-level DHS wealth (your response/dependent variable) as a function of the \"deep\" features (your predictor/independent variables). Use a model that incorporates some form of regularization (e.g., ridge regression, lasso regression, or a tree-based method).  Report the cross-validated R^2 of your model (i.e., the average R^2 of your 10 test folds)."
   ]
  },
  {
   "cell_type": "code",
   "execution_count": null,
   "metadata": {
    "collapsed": true
   },
   "outputs": [],
   "source": [
    "from sklearn.decomposition import PCA\n",
    "#\n",
    "# Your code here\n",
    "#"
   ]
  },
  {
   "cell_type": "markdown",
   "metadata": {},
   "source": [
    "<a id='step_7'></a>"
   ]
  },
  {
   "cell_type": "markdown",
   "metadata": {},
   "source": [
    "# 7. *Optional:* Replicate the transfer learning results of Jean et al (2016)\n",
    "\n",
    "The only thing missing at this point is the \"transfer learning\" step. In other words, instead of using the image features extracted by the CNN directly, we want to retrain the CNN to predict nightlights from daytime imagery, and use those features, which presumably are more appropriate to our final prediction task.\n",
    "\n",
    "## 7.1. Use the nightlights to retrain the CNN and extract features\n",
    "\n",
    "- **INPUT**: \n",
    " - `google_image/...`: Raw images, from Step 4\n",
    "- **OUTPUT**: \n",
    " - `google_image_features_cnn_retrained.csv`: Image features \n",
    "\n",
    "Following the approach used in the paper, first divide your daytime images into three groups, corresponding to images where the corresponding night-lights pixel is dim, medium, or bright. Use these values to define your groups: [0, 3), [3, 35), [35, 64). We have given you the code to do this below."
   ]
  },
  {
   "cell_type": "code",
   "execution_count": null,
   "metadata": {
    "collapsed": true
   },
   "outputs": [],
   "source": [
    "#\n",
    "# Your code here\n",
    "#"
   ]
  },
  {
   "cell_type": "markdown",
   "metadata": {},
   "source": [
    "## 7.2. Test whether \"deep\" features of satellite imagery can predict wealth\n",
    "- **INPUT**: \n",
    " - `google_image_cnn/...`: Satellite images from 7.1\n",
    "- **OUTPUT**: \n",
    " - `data/model/DHS_CNN.csv`: Merged dataset with 492 rows, and 4097 columns (one indicates average cluster wealth, 4096 CNN features)\n",
    " - R^2 of model\n",
    "\n",
    "Repeat 6.2, except this time use the features generated from 7.1, i.e., the features that have been constructed after transfer learning. As in 6.2, show a scatterplot of the relationship between average cluster wealth (y-axis) and the first principal component of your image features. Then, report the cross-validated R^2 of your model (i.e., the average R^2 of your 10 test folds)."
   ]
  },
  {
   "cell_type": "code",
   "execution_count": null,
   "metadata": {
    "collapsed": true
   },
   "outputs": [],
   "source": [
    "#\n",
    "# Your code here\n",
    "#"
   ]
  },
  {
   "cell_type": "markdown",
   "metadata": {},
   "source": [
    "<a id='step_8'></a>"
   ]
  },
  {
   "cell_type": "markdown",
   "metadata": {},
   "source": [
    "# 8. Construct a high-resolution map of the  predicted wealth of Rwanda\n",
    "- **INPUT**: \n",
    " - Model, image features (data/model/features_all_predictimage_location.csv)\n",
    "- **OUTPUT**: \n",
    " - Map ('poverty_mapping.tiff')\n",
    " \n",
    "Choose your favorite model from the three daytime-based models that you have trained above: 5.3 (basic daytime features), 6.2 (deep daytime features), or 7.2 (transfer-learned daytime features). Use this model to calculate the predicted wealth of every one of your original images. Create a heatmap showing the distribution of predicted wealth in Rwanda. With any luck, it will look something like this:\n",
    "<img src=\"figure/pmap.png\" alt=\"Map\"/>"
   ]
  },
  {
   "cell_type": "code",
   "execution_count": null,
   "metadata": {
    "collapsed": true
   },
   "outputs": [],
   "source": [
    "#\n",
    "# Your code here\n",
    "#"
   ]
  },
  {
   "cell_type": "markdown",
   "metadata": {},
   "source": [
    "<a id='step_9'></a>"
   ]
  },
  {
   "cell_type": "markdown",
   "metadata": {},
   "source": [
    "## 9. Step back and interpret your results\n",
    "\n",
    "Now that you are more intimately familiar with what is being done in the Jean et al. paper, provide some intelligent/critical commentary on what you think of the overall method. If you were going to set about predicting wealth from satellite imagery, is there anything you would do differently, or do you think the recipe established in the paper is as good as can be? Would you trust the maps you've generated, if you needed to use them for a research project or to make policy recommendations? What do you think the limits of this approach are?"
   ]
  },
  {
   "cell_type": "markdown",
   "metadata": {},
   "source": [
    "\n",
    "*Replace this section with your observations and interpretation*\n"
   ]
  }
 ],
 "metadata": {
  "anaconda-cloud": {},
  "kernelspec": {
   "display_name": "venvv",
   "language": "python",
   "name": "venvv"
  },
  "language_info": {
   "codemirror_mode": {
    "name": "ipython",
    "version": 2
   },
   "file_extension": ".py",
   "mimetype": "text/x-python",
   "name": "python",
   "nbconvert_exporter": "python",
   "pygments_lexer": "ipython2",
   "version": "2.7.10"
  }
 },
 "nbformat": 4,
 "nbformat_minor": 1
}
